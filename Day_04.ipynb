{
 "cells": [
  {
   "cell_type": "markdown",
   "id": "7acdf732",
   "metadata": {},
   "source": [
    "# Py-Spark"
   ]
  },
  {
   "cell_type": "code",
   "execution_count": 1,
   "id": "ed39837e",
   "metadata": {},
   "outputs": [],
   "source": [
    "import findspark"
   ]
  },
  {
   "cell_type": "code",
   "execution_count": 2,
   "id": "9ac422b1",
   "metadata": {},
   "outputs": [],
   "source": [
    "findspark.init()"
   ]
  },
  {
   "cell_type": "code",
   "execution_count": 3,
   "id": "c39382eb",
   "metadata": {},
   "outputs": [
    {
     "name": "stderr",
     "output_type": "stream",
     "text": [
      "Setting default log level to \"WARN\".\n",
      "To adjust logging level use sc.setLogLevel(newLevel). For SparkR, use setLogLevel(newLevel).\n",
      "23/09/21 08:08:57 WARN NativeCodeLoader: Unable to load native-hadoop library for your platform... using builtin-java classes where applicable\n"
     ]
    }
   ],
   "source": [
    "from pyspark.sql import SparkSession\n",
    "\n",
    "spark = SparkSession.builder.appName(\"Wordcount\").getOrCreate()"
   ]
  },
  {
   "cell_type": "code",
   "execution_count": 4,
   "id": "55199cec",
   "metadata": {},
   "outputs": [],
   "source": [
    "text_file = spark.sparkContext.textFile('/home/labuser/Desktop/sushant/sushant.txt')"
   ]
  },
  {
   "cell_type": "code",
   "execution_count": 5,
   "id": "e4d416b9",
   "metadata": {},
   "outputs": [
    {
     "name": "stderr",
     "output_type": "stream",
     "text": [
      "                                                                                \r"
     ]
    }
   ],
   "source": [
    "words = text_file.flatMap(lambda line : line.split(\" \"))\n",
    "\n",
    "word_counts = words.map(lambda word: (word,1))\n",
    "\n",
    "word_count = word_counts.reduceByKey(lambda a,b : a+b)\n",
    "\n",
    "result = word_count.collect()"
   ]
  },
  {
   "cell_type": "code",
   "execution_count": 6,
   "id": "fc8c79b8",
   "metadata": {},
   "outputs": [
    {
     "name": "stdout",
     "output_type": "stream",
     "text": [
      "[('data', 1), ('engineer', 1)]\n"
     ]
    }
   ],
   "source": [
    "print(result)"
   ]
  },
  {
   "cell_type": "code",
   "execution_count": 7,
   "id": "c2ebd8cb",
   "metadata": {},
   "outputs": [],
   "source": [
    "sc = spark.sparkContext"
   ]
  },
  {
   "cell_type": "code",
   "execution_count": 8,
   "id": "19976d6a",
   "metadata": {},
   "outputs": [],
   "source": [
    "rdd = sc.parallelize([1,2,3,4,5])"
   ]
  },
  {
   "cell_type": "code",
   "execution_count": 9,
   "id": "653940cc",
   "metadata": {},
   "outputs": [
    {
     "data": {
      "text/plain": [
       "[1, 2, 3, 4, 5]"
      ]
     },
     "execution_count": 9,
     "metadata": {},
     "output_type": "execute_result"
    }
   ],
   "source": [
    "rdd.collect()"
   ]
  },
  {
   "cell_type": "code",
   "execution_count": 10,
   "id": "8bdf3fac",
   "metadata": {},
   "outputs": [
    {
     "data": {
      "text/plain": [
       "[2, 4, 6, 8, 10]"
      ]
     },
     "execution_count": 10,
     "metadata": {},
     "output_type": "execute_result"
    }
   ],
   "source": [
    "rdd.map(lambda x:x*2).collect()"
   ]
  },
  {
   "cell_type": "code",
   "execution_count": 11,
   "id": "a89d050b",
   "metadata": {},
   "outputs": [],
   "source": [
    "df = spark.createDataFrame([(1,2,3),(1,3,4)],schema=['a','b','c'])"
   ]
  },
  {
   "cell_type": "code",
   "execution_count": 12,
   "id": "d495838a",
   "metadata": {},
   "outputs": [
    {
     "name": "stdout",
     "output_type": "stream",
     "text": [
      "+---+---+---+\n",
      "|  a|  b|  c|\n",
      "+---+---+---+\n",
      "|  1|  2|  3|\n",
      "|  1|  3|  4|\n",
      "+---+---+---+\n",
      "\n"
     ]
    }
   ],
   "source": [
    "df.show()"
   ]
  },
  {
   "cell_type": "code",
   "execution_count": 13,
   "id": "136e88de",
   "metadata": {},
   "outputs": [
    {
     "data": {
      "text/plain": [
       "DataFrame[a: bigint, b: bigint, c: bigint]"
      ]
     },
     "metadata": {},
     "output_type": "display_data"
    }
   ],
   "source": [
    "display(df)"
   ]
  },
  {
   "cell_type": "code",
   "execution_count": 14,
   "id": "62359339",
   "metadata": {},
   "outputs": [],
   "source": [
    "rdd1 = df.rdd"
   ]
  },
  {
   "cell_type": "code",
   "execution_count": 15,
   "id": "a5a1b91d",
   "metadata": {},
   "outputs": [],
   "source": [
    "rdd2 = rdd1.collect()"
   ]
  },
  {
   "cell_type": "code",
   "execution_count": 16,
   "id": "06b9217c",
   "metadata": {},
   "outputs": [
    {
     "data": {
      "text/plain": [
       "Row(a=1, b=2, c=3)"
      ]
     },
     "execution_count": 16,
     "metadata": {},
     "output_type": "execute_result"
    }
   ],
   "source": [
    "rdd2[0]"
   ]
  },
  {
   "cell_type": "code",
   "execution_count": 17,
   "id": "2eaf6cb4",
   "metadata": {},
   "outputs": [
    {
     "data": {
      "text/plain": [
       "1"
      ]
     },
     "execution_count": 17,
     "metadata": {},
     "output_type": "execute_result"
    }
   ],
   "source": [
    "rdd2[0].a"
   ]
  },
  {
   "cell_type": "code",
   "execution_count": 18,
   "id": "16765a13",
   "metadata": {},
   "outputs": [
    {
     "data": {
      "text/plain": [
       "2"
      ]
     },
     "execution_count": 18,
     "metadata": {},
     "output_type": "execute_result"
    }
   ],
   "source": [
    "rdd1.count()"
   ]
  },
  {
   "cell_type": "code",
   "execution_count": 19,
   "id": "c15583cb",
   "metadata": {},
   "outputs": [
    {
     "data": {
      "text/plain": [
       "pyspark.rdd.RDD"
      ]
     },
     "execution_count": 19,
     "metadata": {},
     "output_type": "execute_result"
    }
   ],
   "source": [
    "type(rdd1)"
   ]
  },
  {
   "cell_type": "code",
   "execution_count": 20,
   "id": "64858bfa",
   "metadata": {},
   "outputs": [],
   "source": [
    "df1 = rdd1.toDF()"
   ]
  },
  {
   "cell_type": "code",
   "execution_count": 21,
   "id": "c2722992",
   "metadata": {},
   "outputs": [
    {
     "data": {
      "text/plain": [
       "pyspark.sql.dataframe.DataFrame"
      ]
     },
     "execution_count": 21,
     "metadata": {},
     "output_type": "execute_result"
    }
   ],
   "source": [
    "type(df1)"
   ]
  },
  {
   "cell_type": "code",
   "execution_count": 22,
   "id": "5fd5b44e",
   "metadata": {},
   "outputs": [
    {
     "data": {
      "text/plain": [
       "[Row(a=1, b=2, c=3), Row(a=1, b=3, c=4)]"
      ]
     },
     "execution_count": 22,
     "metadata": {},
     "output_type": "execute_result"
    }
   ],
   "source": [
    "rdd1.collect()"
   ]
  },
  {
   "cell_type": "code",
   "execution_count": 23,
   "id": "e7c89007",
   "metadata": {},
   "outputs": [
    {
     "data": {
      "text/plain": [
       "[1, 4, 2, 5, 3, 6, 4, 7, 5, 8]"
      ]
     },
     "execution_count": 23,
     "metadata": {},
     "output_type": "execute_result"
    }
   ],
   "source": [
    "rdd.flatMap(lambda x:(x,x+3)).collect()"
   ]
  },
  {
   "cell_type": "code",
   "execution_count": 24,
   "id": "9ca50e6a",
   "metadata": {},
   "outputs": [
    {
     "data": {
      "text/plain": [
       "pyspark.rdd.RDD"
      ]
     },
     "execution_count": 24,
     "metadata": {},
     "output_type": "execute_result"
    }
   ],
   "source": [
    "type(rdd)"
   ]
  },
  {
   "cell_type": "code",
   "execution_count": 25,
   "id": "496ecfe4",
   "metadata": {},
   "outputs": [
    {
     "data": {
      "text/plain": [
       "pyspark.rdd.RDD"
      ]
     },
     "execution_count": 25,
     "metadata": {},
     "output_type": "execute_result"
    }
   ],
   "source": [
    "type(rdd1)"
   ]
  },
  {
   "cell_type": "code",
   "execution_count": 26,
   "id": "8eb99060",
   "metadata": {},
   "outputs": [
    {
     "data": {
      "text/plain": [
       "[1, 2, 3, 4, 5]"
      ]
     },
     "execution_count": 26,
     "metadata": {},
     "output_type": "execute_result"
    }
   ],
   "source": [
    "rdd.collect()"
   ]
  },
  {
   "cell_type": "code",
   "execution_count": 27,
   "id": "602b37e2",
   "metadata": {},
   "outputs": [
    {
     "data": {
      "text/plain": [
       "[Row(a=1, b=2, c=3), Row(a=1, b=3, c=4)]"
      ]
     },
     "execution_count": 27,
     "metadata": {},
     "output_type": "execute_result"
    }
   ],
   "source": [
    "rdd1.collect()"
   ]
  },
  {
   "cell_type": "code",
   "execution_count": 28,
   "id": "83d896bd",
   "metadata": {},
   "outputs": [
    {
     "data": {
      "text/plain": [
       "[Row(a=1, b=2, c=3), Row(a=1, b=3, c=4)]"
      ]
     },
     "execution_count": 28,
     "metadata": {},
     "output_type": "execute_result"
    }
   ],
   "source": [
    "rdd1.map(lambda x:x).collect()"
   ]
  },
  {
   "cell_type": "code",
   "execution_count": 29,
   "id": "149eb3e6",
   "metadata": {},
   "outputs": [
    {
     "data": {
      "text/plain": [
       "[2, 4]"
      ]
     },
     "execution_count": 29,
     "metadata": {},
     "output_type": "execute_result"
    }
   ],
   "source": [
    "rdd.filter(lambda x:x%2==0).collect()"
   ]
  },
  {
   "cell_type": "code",
   "execution_count": 30,
   "id": "205ac0b9",
   "metadata": {},
   "outputs": [
    {
     "data": {
      "text/plain": [
       "[(2, 7), (4, 7), (1, 14)]"
      ]
     },
     "execution_count": 30,
     "metadata": {},
     "output_type": "execute_result"
    }
   ],
   "source": [
    "rdd2 =  sc.parallelize([(1,2),(1,7),(2,7),(4,7)])\n",
    "rdd2.reduceByKey(lambda x,y: x*y).collect()"
   ]
  },
  {
   "cell_type": "code",
   "execution_count": 36,
   "id": "d3d23104",
   "metadata": {},
   "outputs": [
    {
     "name": "stdout",
     "output_type": "stream",
     "text": [
      "2\n",
      "7\n"
     ]
    }
   ],
   "source": [
    "for i in rdd2.groupByKey().collect()[2][1]:\n",
    "    print(i)\n",
    "    "
   ]
  },
  {
   "cell_type": "code",
   "execution_count": 35,
   "id": "2c828e9b",
   "metadata": {},
   "outputs": [
    {
     "data": {
      "text/plain": [
       "[(2, <pyspark.resultiterable.ResultIterable at 0x7fb48454b250>),\n",
       " (4, <pyspark.resultiterable.ResultIterable at 0x7fb4845491d0>),\n",
       " (1, <pyspark.resultiterable.ResultIterable at 0x7fb484552010>)]"
      ]
     },
     "execution_count": 35,
     "metadata": {},
     "output_type": "execute_result"
    }
   ],
   "source": [
    "rdd2.groupByKey().collect()"
   ]
  },
  {
   "cell_type": "code",
   "execution_count": 37,
   "id": "25cf6b05",
   "metadata": {},
   "outputs": [
    {
     "data": {
      "text/plain": [
       "[(2, <pyspark.resultiterable.ResultIterable at 0x7fb484522190>),\n",
       " (4, <pyspark.resultiterable.ResultIterable at 0x7fb484543a90>),\n",
       " (1, <pyspark.resultiterable.ResultIterable at 0x7fb484543f10>)]"
      ]
     },
     "execution_count": 37,
     "metadata": {},
     "output_type": "execute_result"
    }
   ],
   "source": [
    "rdd2.groupByKey().collect()"
   ]
  },
  {
   "cell_type": "code",
   "execution_count": 38,
   "id": "1b26f730",
   "metadata": {},
   "outputs": [
    {
     "name": "stderr",
     "output_type": "stream",
     "text": [
      "\r",
      "[Stage 31:=============================>                            (1 + 1) / 2]\r"
     ]
    },
    {
     "name": "stdout",
     "output_type": "stream",
     "text": [
      "2 [7]\n",
      "4 [7]\n",
      "1 [2, 7]\n"
     ]
    },
    {
     "name": "stderr",
     "output_type": "stream",
     "text": [
      "\r",
      "                                                                                \r"
     ]
    }
   ],
   "source": [
    "for k,v in rdd2.groupByKey().collect():\n",
    "    print(k,list(v))"
   ]
  },
  {
   "cell_type": "code",
   "execution_count": 44,
   "id": "af9520fb",
   "metadata": {},
   "outputs": [],
   "source": [
    "rdd3 = sc.parallelize(['a','b','c','a','a'])\n",
    "\n",
    "rdd4 = rdd3.map(lambda x: (x,1))\n"
   ]
  },
  {
   "cell_type": "code",
   "execution_count": 45,
   "id": "96a67b6c",
   "metadata": {},
   "outputs": [],
   "source": [
    "rdd5 = rdd4.reduceByKey(lambda x,y:x+y)"
   ]
  },
  {
   "cell_type": "code",
   "execution_count": 46,
   "id": "147617d5",
   "metadata": {},
   "outputs": [
    {
     "data": {
      "text/plain": [
       "[('b', 1), ('c', 1), ('a', 3)]"
      ]
     },
     "execution_count": 46,
     "metadata": {},
     "output_type": "execute_result"
    }
   ],
   "source": [
    "rdd5.collect()"
   ]
  },
  {
   "cell_type": "code",
   "execution_count": 50,
   "id": "f4886283",
   "metadata": {},
   "outputs": [
    {
     "name": "stdout",
     "output_type": "stream",
     "text": [
      "'b' occured 1 times\n",
      "'c' occured 1 times\n",
      "'a' occured 3 times\n"
     ]
    }
   ],
   "source": [
    "for i,j in rdd5.collect():\n",
    "    print(f\"'{i}' occured {j} times\")"
   ]
  },
  {
   "cell_type": "code",
   "execution_count": 51,
   "id": "fc23f71f",
   "metadata": {},
   "outputs": [],
   "source": [
    "rdd6 = rdd4.groupByKey()"
   ]
  },
  {
   "cell_type": "code",
   "execution_count": 52,
   "id": "e0df0667",
   "metadata": {},
   "outputs": [
    {
     "name": "stdout",
     "output_type": "stream",
     "text": [
      "b 1\n",
      "c 1\n",
      "a 3\n"
     ]
    }
   ],
   "source": [
    "for i,j in rdd6.collect():\n",
    "    print(i,len(j))"
   ]
  },
  {
   "cell_type": "code",
   "execution_count": 53,
   "id": "a44e6108",
   "metadata": {},
   "outputs": [],
   "source": [
    "rdd6 = sc.textFile(\"/home/labuser/Desktop/sushant/sale.csv\")"
   ]
  },
  {
   "cell_type": "code",
   "execution_count": 54,
   "id": "bdabdf5e",
   "metadata": {},
   "outputs": [
    {
     "data": {
      "text/plain": [
       "['name,price', 'sushant,100', 'sush,200']"
      ]
     },
     "execution_count": 54,
     "metadata": {},
     "output_type": "execute_result"
    }
   ],
   "source": [
    "rdd6.collect()"
   ]
  },
  {
   "cell_type": "code",
   "execution_count": 55,
   "id": "4cb2f063",
   "metadata": {},
   "outputs": [],
   "source": [
    "rdd7 = sc.textFile(\"/home/labuser/Desktop/sushant/Pandas_datasets/purchases.csv\")"
   ]
  },
  {
   "cell_type": "code",
   "execution_count": 57,
   "id": "7eb6d2ce",
   "metadata": {},
   "outputs": [
    {
     "data": {
      "text/plain": [
       "[',apples,oranges', 'June,3,0', 'Robert,2,3', 'Lily,0,7', 'David,1,2']"
      ]
     },
     "execution_count": 57,
     "metadata": {},
     "output_type": "execute_result"
    }
   ],
   "source": [
    "rdd7.collect()"
   ]
  },
  {
   "cell_type": "code",
   "execution_count": 64,
   "id": "1bade5f1",
   "metadata": {},
   "outputs": [],
   "source": [
    "rdd7 = spark.read.csv(\"/home/labuser/Desktop/sushant/Pandas_datasets/purchases.csv\",header=True,inferSchema=True)"
   ]
  },
  {
   "cell_type": "code",
   "execution_count": 65,
   "id": "c0f65b77",
   "metadata": {},
   "outputs": [
    {
     "name": "stdout",
     "output_type": "stream",
     "text": [
      "+------+------+-------+\n",
      "|   _c0|apples|oranges|\n",
      "+------+------+-------+\n",
      "|  June|     3|      0|\n",
      "|Robert|     2|      3|\n",
      "|  Lily|     0|      7|\n",
      "| David|     1|      2|\n",
      "+------+------+-------+\n",
      "\n"
     ]
    },
    {
     "name": "stderr",
     "output_type": "stream",
     "text": [
      "23/09/21 08:57:14 WARN CSVHeaderChecker: CSV header does not conform to the schema.\n",
      " Header: , apples, oranges\n",
      " Schema: _c0, apples, oranges\n",
      "Expected: _c0 but found: \n",
      "CSV file: file:///home/labuser/Desktop/sushant/Pandas_datasets/purchases.csv\n"
     ]
    }
   ],
   "source": [
    "rdd7.show()"
   ]
  },
  {
   "cell_type": "code",
   "execution_count": 66,
   "id": "6349aed6",
   "metadata": {},
   "outputs": [
    {
     "name": "stdout",
     "output_type": "stream",
     "text": [
      "root\n",
      " |-- _c0: string (nullable = true)\n",
      " |-- apples: integer (nullable = true)\n",
      " |-- oranges: integer (nullable = true)\n",
      "\n"
     ]
    }
   ],
   "source": [
    "rdd7.printSchema()"
   ]
  },
  {
   "cell_type": "code",
   "execution_count": 67,
   "id": "b345b5e7",
   "metadata": {},
   "outputs": [],
   "source": [
    "rdd8 = spark.read.option(\"inferSchema\",True).option(\"header\",True).csv(\"/home/labuser/Desktop/sushant/Pandas_datasets/purchases.csv\")"
   ]
  },
  {
   "cell_type": "code",
   "execution_count": 68,
   "id": "9a8b1f5f",
   "metadata": {},
   "outputs": [
    {
     "name": "stdout",
     "output_type": "stream",
     "text": [
      "+------+------+-------+\n",
      "|   _c0|apples|oranges|\n",
      "+------+------+-------+\n",
      "|  June|     3|      0|\n",
      "|Robert|     2|      3|\n",
      "|  Lily|     0|      7|\n",
      "| David|     1|      2|\n",
      "+------+------+-------+\n",
      "\n"
     ]
    },
    {
     "name": "stderr",
     "output_type": "stream",
     "text": [
      "23/09/21 09:02:20 WARN CSVHeaderChecker: CSV header does not conform to the schema.\n",
      " Header: , apples, oranges\n",
      " Schema: _c0, apples, oranges\n",
      "Expected: _c0 but found: \n",
      "CSV file: file:///home/labuser/Desktop/sushant/Pandas_datasets/purchases.csv\n"
     ]
    }
   ],
   "source": [
    "rdd8.show()"
   ]
  },
  {
   "cell_type": "code",
   "execution_count": 69,
   "id": "bfb2bdf3",
   "metadata": {},
   "outputs": [
    {
     "name": "stdout",
     "output_type": "stream",
     "text": [
      "root\n",
      " |-- _c0: string (nullable = true)\n",
      " |-- apples: integer (nullable = true)\n",
      " |-- oranges: integer (nullable = true)\n",
      "\n"
     ]
    }
   ],
   "source": [
    "rdd8.printSchema()"
   ]
  },
  {
   "cell_type": "code",
   "execution_count": 71,
   "id": "9c4d9bfa",
   "metadata": {},
   "outputs": [
    {
     "name": "stdout",
     "output_type": "stream",
     "text": [
      "+------+------+-------+\n",
      "|   _c0|   _c1|    _c2|\n",
      "+------+------+-------+\n",
      "|  null|apples|oranges|\n",
      "|  June|     3|      0|\n",
      "|Robert|     2|      3|\n",
      "|  Lily|     0|      7|\n",
      "| David|     1|      2|\n",
      "+------+------+-------+\n",
      "\n"
     ]
    }
   ],
   "source": [
    "rdd7 = spark.read.csv(\"/home/labuser/Desktop/sushant/Pandas_datasets/purchases.csv\")\n",
    "rdd7.show()"
   ]
  },
  {
   "cell_type": "code",
   "execution_count": 72,
   "id": "06299e16",
   "metadata": {},
   "outputs": [
    {
     "name": "stdout",
     "output_type": "stream",
     "text": [
      "root\n",
      " |-- _c0: string (nullable = true)\n",
      " |-- _c1: string (nullable = true)\n",
      " |-- _c2: string (nullable = true)\n",
      "\n"
     ]
    }
   ],
   "source": [
    "rdd7.printSchema()"
   ]
  },
  {
   "cell_type": "code",
   "execution_count": 75,
   "id": "c6d437d4",
   "metadata": {},
   "outputs": [],
   "source": [
    "df = spark.read.csv(\"/home/labuser/Downloads/IMDB-Movie-Data.csv\",inferSchema=True,header=True)"
   ]
  },
  {
   "cell_type": "code",
   "execution_count": 81,
   "id": "0a5b63dc",
   "metadata": {},
   "outputs": [
    {
     "name": "stdout",
     "output_type": "stream",
     "text": [
      "+----+--------------------+--------------------+--------------------+--------------------+--------------------+----+-----------------+------+------+------------------+---------+\n",
      "|Rank|               Title|               Genre|         Description|            Director|              Actors|Year|Runtime (Minutes)|Rating| Votes|Revenue (Millions)|Metascore|\n",
      "+----+--------------------+--------------------+--------------------+--------------------+--------------------+----+-----------------+------+------+------------------+---------+\n",
      "|   1|Guardians of the ...|Action,Adventure,...|A group of interg...|          James Gunn|Chris Pratt, Vin ...|2014|              121|   8.1|757074|            333.13|     76.0|\n",
      "|   2|          Prometheus|Adventure,Mystery...|Following clues t...|        Ridley Scott|Noomi Rapace, Log...|2012|              124|     7|485820|            126.46|     65.0|\n",
      "|   3|               Split|     Horror,Thriller|Three girls are k...|  M. Night Shyamalan|James McAvoy, Any...|2016|              117|   7.3|157606|            138.12|     62.0|\n",
      "|   4|                Sing|Animation,Comedy,...|In a city of huma...|Christophe Lourdelet|Matthew McConaugh...|2016|              108|   7.2| 60545|            270.32|     59.0|\n",
      "+----+--------------------+--------------------+--------------------+--------------------+--------------------+----+-----------------+------+------+------------------+---------+\n",
      "only showing top 4 rows\n",
      "\n"
     ]
    }
   ],
   "source": [
    "df.show(4)"
   ]
  },
  {
   "cell_type": "code",
   "execution_count": 85,
   "id": "7f525e53",
   "metadata": {},
   "outputs": [],
   "source": [
    "from pyspark.sql.types import StructField,StructType,StringType,IntegerType\n",
    "\n",
    "udfschema = StructType([\\\n",
    "                       StructField('Rank',IntegerType(),True),\\\n",
    "                       StructField('Title',StringType(),True),\\\n",
    "                       StructField('Genre',StringType(),True)])"
   ]
  },
  {
   "cell_type": "code",
   "execution_count": 86,
   "id": "4c4de107",
   "metadata": {},
   "outputs": [],
   "source": [
    "df = spark.read.csv(\"/home/labuser/Downloads/IMDB-Movie-Data.csv\",schema=udfschema)"
   ]
  },
  {
   "cell_type": "code",
   "execution_count": 87,
   "id": "6978c7a0",
   "metadata": {},
   "outputs": [
    {
     "name": "stdout",
     "output_type": "stream",
     "text": [
      "root\n",
      " |-- Rank: integer (nullable = true)\n",
      " |-- Title: string (nullable = true)\n",
      " |-- Genre: string (nullable = true)\n",
      "\n"
     ]
    }
   ],
   "source": [
    "df.printSchema()"
   ]
  },
  {
   "cell_type": "code",
   "execution_count": 88,
   "id": "b09b7242",
   "metadata": {},
   "outputs": [
    {
     "name": "stdout",
     "output_type": "stream",
     "text": [
      "+----+--------------------+--------------------+\n",
      "|Rank|               Title|               Genre|\n",
      "+----+--------------------+--------------------+\n",
      "|null|               Title|               Genre|\n",
      "|   1|Guardians of the ...|Action,Adventure,...|\n",
      "|   2|          Prometheus|Adventure,Mystery...|\n",
      "|   3|               Split|     Horror,Thriller|\n",
      "|   4|                Sing|Animation,Comedy,...|\n",
      "|   5|       Suicide Squad|Action,Adventure,...|\n",
      "|   6|      The Great Wall|Action,Adventure,...|\n",
      "|   7|          La La Land|  Comedy,Drama,Music|\n",
      "|   8|            Mindhorn|              Comedy|\n",
      "|   9|  The Lost City of Z|Action,Adventure,...|\n",
      "|  10|          Passengers|Adventure,Drama,R...|\n",
      "|  11|Fantastic Beasts ...|Adventure,Family,...|\n",
      "|  12|      Hidden Figures|Biography,Drama,H...|\n",
      "|  13|           Rogue One|Action,Adventure,...|\n",
      "|  14|               Moana|Animation,Adventu...|\n",
      "|  15|            Colossal| Action,Comedy,Drama|\n",
      "|  16|The Secret Life o...|Animation,Adventu...|\n",
      "|  17|       Hacksaw Ridge|Biography,Drama,H...|\n",
      "|  18|        Jason Bourne|     Action,Thriller|\n",
      "|  19|                Lion|     Biography,Drama|\n",
      "+----+--------------------+--------------------+\n",
      "only showing top 20 rows\n",
      "\n"
     ]
    }
   ],
   "source": [
    "df.show()"
   ]
  },
  {
   "cell_type": "code",
   "execution_count": 92,
   "id": "45edd46f",
   "metadata": {},
   "outputs": [],
   "source": [
    "df1 = spark.read.csv('/home/labuser/Downloads/IMDB-Movie-Data.csv',inferSchema=True,header=True)"
   ]
  },
  {
   "cell_type": "code",
   "execution_count": 93,
   "id": "651e70fe",
   "metadata": {},
   "outputs": [
    {
     "name": "stdout",
     "output_type": "stream",
     "text": [
      "root\n",
      " |-- Rank: integer (nullable = true)\n",
      " |-- Title: string (nullable = true)\n",
      " |-- Genre: string (nullable = true)\n",
      " |-- Description: string (nullable = true)\n",
      " |-- Director: string (nullable = true)\n",
      " |-- Actors: string (nullable = true)\n",
      " |-- Year: string (nullable = true)\n",
      " |-- Runtime (Minutes): string (nullable = true)\n",
      " |-- Rating: string (nullable = true)\n",
      " |-- Votes: string (nullable = true)\n",
      " |-- Revenue (Millions): double (nullable = true)\n",
      " |-- Metascore: double (nullable = true)\n",
      "\n"
     ]
    }
   ],
   "source": [
    "df1.printSchema()"
   ]
  },
  {
   "cell_type": "code",
   "execution_count": null,
   "id": "d4bbf8da",
   "metadata": {},
   "outputs": [],
   "source": []
  }
 ],
 "metadata": {
  "kernelspec": {
   "display_name": "Python 3 (ipykernel)",
   "language": "python",
   "name": "python3"
  },
  "language_info": {
   "codemirror_mode": {
    "name": "ipython",
    "version": 3
   },
   "file_extension": ".py",
   "mimetype": "text/x-python",
   "name": "python",
   "nbconvert_exporter": "python",
   "pygments_lexer": "ipython3",
   "version": "3.11.4"
  }
 },
 "nbformat": 4,
 "nbformat_minor": 5
}
