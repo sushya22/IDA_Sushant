{
 "cells": [
  {
   "cell_type": "code",
   "execution_count": 1,
   "id": "2c6bfc6f",
   "metadata": {},
   "outputs": [],
   "source": [
    "from pyspark.sql import SparkSession"
   ]
  },
  {
   "cell_type": "code",
   "execution_count": 2,
   "id": "d042319d",
   "metadata": {},
   "outputs": [
    {
     "name": "stderr",
     "output_type": "stream",
     "text": [
      "Setting default log level to \"WARN\".\n",
      "To adjust logging level use sc.setLogLevel(newLevel). For SparkR, use setLogLevel(newLevel).\n",
      "23/09/22 07:58:50 WARN NativeCodeLoader: Unable to load native-hadoop library for your platform... using builtin-java classes where applicable\n"
     ]
    }
   ],
   "source": [
    "spark = SparkSession.builder.appName(\"name01\").getOrCreate()"
   ]
  },
  {
   "cell_type": "code",
   "execution_count": 3,
   "id": "32611568",
   "metadata": {},
   "outputs": [
    {
     "name": "stderr",
     "output_type": "stream",
     "text": [
      "                                                                                \r"
     ]
    }
   ],
   "source": [
    "df = spark.read.csv(\"/home/labuser/Downloads/IMDB-Movie-Data.csv\",inferSchema=True,header=True)"
   ]
  },
  {
   "cell_type": "code",
   "execution_count": 4,
   "id": "399f68ed",
   "metadata": {},
   "outputs": [
    {
     "name": "stderr",
     "output_type": "stream",
     "text": [
      "\r",
      "[Stage 2:>                                                          (0 + 1) / 1]\r"
     ]
    },
    {
     "name": "stdout",
     "output_type": "stream",
     "text": [
      "+----+--------------------+--------------------+--------------------+--------------------+--------------------+--------------------+-----------------+------+------+------------------+---------+\n",
      "|Rank|               Title|               Genre|         Description|            Director|              Actors|                Year|Runtime (Minutes)|Rating| Votes|Revenue (Millions)|Metascore|\n",
      "+----+--------------------+--------------------+--------------------+--------------------+--------------------+--------------------+-----------------+------+------+------------------+---------+\n",
      "|   1|Guardians of the ...|Action,Adventure,...|A group of interg...|          James Gunn|Chris Pratt, Vin ...|                2014|              121|   8.1|757074|            333.13|     76.0|\n",
      "|   2|          Prometheus|Adventure,Mystery...|Following clues t...|        Ridley Scott|Noomi Rapace, Log...|                2012|              124|     7|485820|            126.46|     65.0|\n",
      "|   3|               Split|     Horror,Thriller|Three girls are k...|  M. Night Shyamalan|James McAvoy, Any...|                2016|              117|   7.3|157606|            138.12|     62.0|\n",
      "|   4|                Sing|Animation,Comedy,...|In a city of huma...|Christophe Lourdelet|Matthew McConaugh...|                2016|              108|   7.2| 60545|            270.32|     59.0|\n",
      "|   5|       Suicide Squad|Action,Adventure,...|A secret governme...|          David Ayer|Will Smith, Jared...|                2016|              123|   6.2|393727|            325.02|     40.0|\n",
      "|   6|      The Great Wall|Action,Adventure,...|European mercenar...|         Yimou Zhang|Matt Damon, Tian ...|                2016|              103|   6.1| 56036|             45.13|     42.0|\n",
      "|   7|          La La Land|  Comedy,Drama,Music|A jazz pianist fa...|     Damien Chazelle|Ryan Gosling, Emm...|                2016|              128|   8.3|258682|            151.06|     93.0|\n",
      "|   8|            Mindhorn|              Comedy|\"A has-been actor...| whom he believes...|          Sean Foley|Essie Davis, Andr...|             2016|    89|   6.4|            2490.0|     null|\n",
      "|   9|  The Lost City of Z|Action,Adventure,...|A true-life drama...|          James Gray|Charlie Hunnam, R...|                2016|              141|   7.1|  7188|              8.01|     78.0|\n",
      "|  10|          Passengers|Adventure,Drama,R...|A spacecraft trav...|       Morten Tyldum|Jennifer Lawrence...|                2016|              116|     7|192177|            100.01|     41.0|\n",
      "|  11|Fantastic Beasts ...|Adventure,Family,...|The adventures of...|         David Yates|Eddie Redmayne, K...|                2016|              133|   7.5|232072|            234.02|     66.0|\n",
      "|  12|      Hidden Figures|Biography,Drama,H...|The story of a te...|      Theodore Melfi|Taraji P. Henson,...|                2016|              127|   7.8| 93103|            169.27|     74.0|\n",
      "|  13|           Rogue One|Action,Adventure,...|The Rebel Allianc...|      Gareth Edwards|Felicity Jones, D...|                2016|              133|   7.9|323118|            532.17|     65.0|\n",
      "|  14|               Moana|Animation,Adventu...|In Ancient Polyne...|        Ron Clements|Auli'i Cravalho, ...|                2016|              107|   7.7|118151|            248.75|     81.0|\n",
      "|  15|            Colossal| Action,Comedy,Drama|Gloria is an out-...|     Nacho Vigalondo|Anne Hathaway, Ja...|                2016|              109|   6.4|  8612|              2.87|     70.0|\n",
      "|  16|The Secret Life o...|Animation,Adventu...|The quiet life of...|        Chris Renaud|Louis C.K., Eric ...|                2016|               87|   6.6|120259|            368.31|     61.0|\n",
      "|  17|       Hacksaw Ridge|Biography,Drama,H...|WWII American Arm...|          Mel Gibson|Andrew Garfield, ...|                2016|              139|   8.2|211760|             67.12|     71.0|\n",
      "|  18|        Jason Bourne|     Action,Thriller|The CIA's most da...|     Paul Greengrass|Matt Damon, Tommy...|                2016|              123|   6.7|150823|            162.16|     58.0|\n",
      "|  19|                Lion|     Biography,Drama|A five-year-old I...|         Garth Davis|Dev Patel, Nicole...|                2016|              118|   8.1|102061|             51.69|     69.0|\n",
      "|  20|             Arrival|Drama,Mystery,Sci-Fi|When twelve myste...|    Denis Villeneuve|Amy Adams, Jeremy...|                2016|              116|     8|340798|             100.5|     81.0|\n",
      "+----+--------------------+--------------------+--------------------+--------------------+--------------------+--------------------+-----------------+------+------+------------------+---------+\n",
      "only showing top 20 rows\n",
      "\n"
     ]
    },
    {
     "name": "stderr",
     "output_type": "stream",
     "text": [
      "\r",
      "                                                                                \r"
     ]
    }
   ],
   "source": [
    "df.show()"
   ]
  },
  {
   "cell_type": "code",
   "execution_count": 5,
   "id": "2c5c53c5",
   "metadata": {},
   "outputs": [
    {
     "data": {
      "text/plain": [
       "1"
      ]
     },
     "execution_count": 5,
     "metadata": {},
     "output_type": "execute_result"
    }
   ],
   "source": [
    "df.rdd.getNumPartitions()"
   ]
  },
  {
   "cell_type": "code",
   "execution_count": 6,
   "id": "72bb4bc8",
   "metadata": {},
   "outputs": [],
   "source": [
    "df1= df.repartition(4)"
   ]
  },
  {
   "cell_type": "code",
   "execution_count": 7,
   "id": "57e519c7",
   "metadata": {},
   "outputs": [
    {
     "name": "stderr",
     "output_type": "stream",
     "text": [
      "\r",
      "[Stage 3:>                                                          (0 + 1) / 1]\r"
     ]
    },
    {
     "data": {
      "text/plain": [
       "4"
      ]
     },
     "execution_count": 7,
     "metadata": {},
     "output_type": "execute_result"
    }
   ],
   "source": [
    "df1.rdd.getNumPartitions()"
   ]
  },
  {
   "cell_type": "code",
   "execution_count": 8,
   "id": "14308146",
   "metadata": {},
   "outputs": [
    {
     "name": "stderr",
     "output_type": "stream",
     "text": [
      "                                                                                \r"
     ]
    }
   ],
   "source": [
    "df1.write.csv('/home/labuser/Desktop/sushant/ss')"
   ]
  },
  {
   "cell_type": "code",
   "execution_count": 9,
   "id": "63d9e4e3",
   "metadata": {},
   "outputs": [],
   "source": [
    "df1.write.csv(\"/home/labuser/Desktop/sushant\",'append')"
   ]
  },
  {
   "cell_type": "code",
   "execution_count": 10,
   "id": "923fbd49",
   "metadata": {},
   "outputs": [],
   "source": [
    "sc = spark.sparkContext"
   ]
  },
  {
   "cell_type": "code",
   "execution_count": 11,
   "id": "db2dadf9",
   "metadata": {},
   "outputs": [
    {
     "name": "stdout",
     "output_type": "stream",
     "text": [
      "http://ip-172-31-10-54.ap-south-1.compute.internal:4040\n"
     ]
    }
   ],
   "source": [
    "print(sc.uiWebUrl)"
   ]
  },
  {
   "cell_type": "code",
   "execution_count": 12,
   "id": "fd9be420",
   "metadata": {},
   "outputs": [
    {
     "name": "stdout",
     "output_type": "stream",
     "text": [
      "+----+--------------------+--------------------+--------------------+------------------+--------------------+----+-----------------+------+------+------------------+---------+\n",
      "|Rank|               Title|               Genre|         Description|          Director|              Actors|Year|Runtime (Minutes)|Rating| Votes|Revenue (Millions)|Metascore|\n",
      "+----+--------------------+--------------------+--------------------+------------------+--------------------+----+-----------------+------+------+------------------+---------+\n",
      "|   1|Guardians of the ...|Action,Adventure,...|A group of interg...|        James Gunn|Chris Pratt, Vin ...|2014|              121|   8.1|757074|            333.13|     76.0|\n",
      "|   2|          Prometheus|Adventure,Mystery...|Following clues t...|      Ridley Scott|Noomi Rapace, Log...|2012|              124|     7|485820|            126.46|     65.0|\n",
      "|   3|               Split|     Horror,Thriller|Three girls are k...|M. Night Shyamalan|James McAvoy, Any...|2016|              117|   7.3|157606|            138.12|     62.0|\n",
      "+----+--------------------+--------------------+--------------------+------------------+--------------------+----+-----------------+------+------+------------------+---------+\n",
      "only showing top 3 rows\n",
      "\n"
     ]
    }
   ],
   "source": [
    "df.show(3)"
   ]
  },
  {
   "cell_type": "code",
   "execution_count": 13,
   "id": "ee126ce1",
   "metadata": {},
   "outputs": [],
   "source": [
    "df.createOrReplaceTempView('movies')"
   ]
  },
  {
   "cell_type": "code",
   "execution_count": 14,
   "id": "8ef222f0",
   "metadata": {},
   "outputs": [
    {
     "name": "stdout",
     "output_type": "stream",
     "text": [
      "+--------------------+----+\n",
      "|               Title|year|\n",
      "+--------------------+----+\n",
      "|               Split|2016|\n",
      "|                Sing|2016|\n",
      "|       Suicide Squad|2016|\n",
      "|      The Great Wall|2016|\n",
      "|          La La Land|2016|\n",
      "|  The Lost City of Z|2016|\n",
      "|          Passengers|2016|\n",
      "|Fantastic Beasts ...|2016|\n",
      "|      Hidden Figures|2016|\n",
      "|           Rogue One|2016|\n",
      "|               Moana|2016|\n",
      "|            Colossal|2016|\n",
      "|The Secret Life o...|2016|\n",
      "|       Hacksaw Ridge|2016|\n",
      "|        Jason Bourne|2016|\n",
      "|                Lion|2016|\n",
      "|             Arrival|2016|\n",
      "|                Gold|2016|\n",
      "|Manchester by the...|2016|\n",
      "|      Hounds of Love|2016|\n",
      "+--------------------+----+\n",
      "only showing top 20 rows\n",
      "\n"
     ]
    }
   ],
   "source": [
    "spark.sql('select Title,year from movies where Year=2016').show()"
   ]
  },
  {
   "cell_type": "code",
   "execution_count": 15,
   "id": "698ce913",
   "metadata": {},
   "outputs": [
    {
     "name": "stdout",
     "output_type": "stream",
     "text": [
      "+----+--------------------+\n",
      "|year|               Title|\n",
      "+----+--------------------+\n",
      "|2014|Guardians of the ...|\n",
      "|2016|       Suicide Squad|\n",
      "|2016|      The Great Wall|\n",
      "|2016|          La La Land|\n",
      "|2016|          Passengers|\n",
      "|2016|Fantastic Beasts ...|\n",
      "|2016|               Moana|\n",
      "|2016|            Colossal|\n",
      "|2016|       Hacksaw Ridge|\n",
      "|2016|        Jason Bourne|\n",
      "|2016|             Arrival|\n",
      "|2016|Manchester by the...|\n",
      "|2016|Independence Day:...|\n",
      "|2016|     Paris pieds nus|\n",
      "|2015|Bahubali: The Beg...|\n",
      "|2016|          Dead Awake|\n",
      "|2016|            Bad Moms|\n",
      "|2016|    Assassin's Creed|\n",
      "|2016|   Nocturnal Animals|\n",
      "|2016|   X-Men: Apocalypse|\n",
      "+----+--------------------+\n",
      "only showing top 20 rows\n",
      "\n"
     ]
    }
   ],
   "source": [
    "spark.sql('select year, Title from movies where Title like \\'%a%\\'').show()"
   ]
  },
  {
   "cell_type": "code",
   "execution_count": 16,
   "id": "e3232f9a",
   "metadata": {},
   "outputs": [
    {
     "name": "stdout",
     "output_type": "stream",
     "text": [
      "+----+--------------------+--------------------+--------------------+--------------------+--------------------+--------------------+-----------------+------+------+------------------+---------+\n",
      "|Rank|               Title|               Genre|         Description|            Director|              Actors|                Year|Runtime (Minutes)|Rating| Votes|Revenue (Millions)|Metascore|\n",
      "+----+--------------------+--------------------+--------------------+--------------------+--------------------+--------------------+-----------------+------+------+------------------+---------+\n",
      "|  75|            Zootopia|Animation,Adventu...|In a city of anth...|        Byron Howard|Ginnifer Goodwin,...|                2016|              108|   8.1|296853|            341.26|     78.0|\n",
      "| 432|         Zoolander 2|              Comedy|Derek and Hansel ...|         Ben Stiller|Ben Stiller, Owen...|                2016|              102|   4.7| 48297|             28.84|     34.0|\n",
      "| 364|          Zombieland|Adventure,Comedy,...|A shy student try...|     Ruben Fleischer|Jesse Eisenberg, ...|                2009|               88|   7.7|409403|             75.59|     73.0|\n",
      "| 278|              Zodiac| Crime,Drama,History|In the late 1960s...|       David Fincher|Jake Gyllenhaal, ...|                2007|              157|   7.7|329683|             33.05|     78.0|\n",
      "| 545|              Zipper|      Drama,Thriller|A successful fami...|       Mora Stephens|Patrick Wilson, L...|                2015|              103|   5.7|  4912|              null|     39.0|\n",
      "| 407|    Zero Dark Thirty|Drama,History,Thr...|A chronicle of th...|     Kathryn Bigelow|Jessica Chastain,...|                2012|              157|   7.4|226661|             95.72|     95.0|\n",
      "| 793|Zack and Miri Mak...|      Comedy,Romance|Lifelong platonic...|         Kevin Smith|Seth Rogen, Eliza...|                2008|              101|   6.6|154936|             31.45|     56.0|\n",
      "| 504|               Youth|  Comedy,Drama,Music|A retired orchest...|    Paolo Sorrentino|Michael Caine, Ha...|                2015|              124|   7.3| 52636|               2.7|     64.0|\n",
      "| 986|       Your Highness|Adventure,Comedy,...|When Prince Fabio...|  David Gordon Green|Danny McBride, Na...|                2011|              102|   5.6| 87904|             21.56|     31.0|\n",
      "| 838|You Don't Mess wi...|       Action,Comedy|An Israeli Specia...|        Dennis Dugan|Adam Sandler, Joh...|                2008|              113|   5.5|163144|            100.02|     54.0|\n",
      "| 801|         Yoga Hosers|Comedy,Fantasy,Ho...|Two teenage yoga ...|         Kevin Smith|Lily-Rose Depp, H...|                2016|               88|   4.3|  7091|              null|     23.0|\n",
      "| 206|      X: First Class|Action,Adventure,...|In 1962, the Unit...|      Matthew Vaughn|James McAvoy, Mic...|                2011|              132|   7.8|550011|            146.41|     65.0|\n",
      "| 627|X-Men: The Last S...|Action,Adventure,...|When a cure is fo...|        Brett Ratner|Patrick Stewart, ...|                2006|              104|   6.7|406540|            234.36|     58.0|\n",
      "| 163|X-Men: Days of Fu...|Action,Adventure,...|The X-Men send Wo...|        Bryan Singer|Patrick Stewart, ...|                2014|              132|     8|552298|            233.91|     74.0|\n",
      "|  33|   X-Men: Apocalypse|Action,Adventure,...|After the re-emer...|        Bryan Singer|James McAvoy, Mic...|                2016|              144|   7.1|275510|            155.33|     52.0|\n",
      "| 269|X-Men Origins: Wo...|Action,Adventure,...|A look at Wolveri...|          Gavin Hood|Hugh Jackman, Lie...|                2009|              107|   6.7|388447|            179.88|     40.0|\n",
      "| 969|             Wrecker|Action,Horror,Thr...|\"Best friends Emi...|\"\" they become th...|      Micheal Bafaro|Anna Hutchison, A...|             2015|    83|   3.5|            1210.0|     null|\n",
      "| 564|      Wreck-It Ralph|Animation,Adventu...|A video game vill...|          Rich Moore|John C. Reilly, J...|                2012|              101|   7.8|290559|            189.41|     72.0|\n",
      "| 880| Wrath of the Titans|Action,Adventure,...|Perseus braves th...|  Jonathan Liebesman|Sam Worthington, ...|                2012|               99|   5.8|159230|             83.64|     37.0|\n",
      "| 433|         World War Z|Action,Adventure,...|Former United Nat...|        Marc Forster|Brad Pitt, Mireil...|                2013|              116|     7|494819|            202.35|     63.0|\n",
      "+----+--------------------+--------------------+--------------------+--------------------+--------------------+--------------------+-----------------+------+------+------------------+---------+\n",
      "only showing top 20 rows\n",
      "\n"
     ]
    }
   ],
   "source": [
    "from pyspark.sql.functions import col\n",
    "\n",
    "df.sort(col('Title').desc()).show()"
   ]
  },
  {
   "cell_type": "code",
   "execution_count": 17,
   "id": "4a41d25a",
   "metadata": {},
   "outputs": [
    {
     "name": "stdout",
     "output_type": "stream",
     "text": [
      "+----+--------------------+--------------------+--------------------+--------------------+--------------------+--------------------+-----------------+------+------+------------------+---------+\n",
      "|Rank|               Title|               Genre|         Description|            Director|              Actors|                Year|Runtime (Minutes)|Rating| Votes|Revenue (Millions)|Metascore|\n",
      "+----+--------------------+--------------------+--------------------+--------------------+--------------------+--------------------+-----------------+------+------+------------------+---------+\n",
      "|  75|            Zootopia|Animation,Adventu...|In a city of anth...|        Byron Howard|Ginnifer Goodwin,...|                2016|              108|   8.1|296853|            341.26|     78.0|\n",
      "| 432|         Zoolander 2|              Comedy|Derek and Hansel ...|         Ben Stiller|Ben Stiller, Owen...|                2016|              102|   4.7| 48297|             28.84|     34.0|\n",
      "| 364|          Zombieland|Adventure,Comedy,...|A shy student try...|     Ruben Fleischer|Jesse Eisenberg, ...|                2009|               88|   7.7|409403|             75.59|     73.0|\n",
      "| 278|              Zodiac| Crime,Drama,History|In the late 1960s...|       David Fincher|Jake Gyllenhaal, ...|                2007|              157|   7.7|329683|             33.05|     78.0|\n",
      "| 545|              Zipper|      Drama,Thriller|A successful fami...|       Mora Stephens|Patrick Wilson, L...|                2015|              103|   5.7|  4912|              null|     39.0|\n",
      "| 407|    Zero Dark Thirty|Drama,History,Thr...|A chronicle of th...|     Kathryn Bigelow|Jessica Chastain,...|                2012|              157|   7.4|226661|             95.72|     95.0|\n",
      "| 793|Zack and Miri Mak...|      Comedy,Romance|Lifelong platonic...|         Kevin Smith|Seth Rogen, Eliza...|                2008|              101|   6.6|154936|             31.45|     56.0|\n",
      "| 504|               Youth|  Comedy,Drama,Music|A retired orchest...|    Paolo Sorrentino|Michael Caine, Ha...|                2015|              124|   7.3| 52636|               2.7|     64.0|\n",
      "| 986|       Your Highness|Adventure,Comedy,...|When Prince Fabio...|  David Gordon Green|Danny McBride, Na...|                2011|              102|   5.6| 87904|             21.56|     31.0|\n",
      "| 838|You Don't Mess wi...|       Action,Comedy|An Israeli Specia...|        Dennis Dugan|Adam Sandler, Joh...|                2008|              113|   5.5|163144|            100.02|     54.0|\n",
      "| 801|         Yoga Hosers|Comedy,Fantasy,Ho...|Two teenage yoga ...|         Kevin Smith|Lily-Rose Depp, H...|                2016|               88|   4.3|  7091|              null|     23.0|\n",
      "| 206|      X: First Class|Action,Adventure,...|In 1962, the Unit...|      Matthew Vaughn|James McAvoy, Mic...|                2011|              132|   7.8|550011|            146.41|     65.0|\n",
      "| 627|X-Men: The Last S...|Action,Adventure,...|When a cure is fo...|        Brett Ratner|Patrick Stewart, ...|                2006|              104|   6.7|406540|            234.36|     58.0|\n",
      "| 163|X-Men: Days of Fu...|Action,Adventure,...|The X-Men send Wo...|        Bryan Singer|Patrick Stewart, ...|                2014|              132|     8|552298|            233.91|     74.0|\n",
      "|  33|   X-Men: Apocalypse|Action,Adventure,...|After the re-emer...|        Bryan Singer|James McAvoy, Mic...|                2016|              144|   7.1|275510|            155.33|     52.0|\n",
      "| 269|X-Men Origins: Wo...|Action,Adventure,...|A look at Wolveri...|          Gavin Hood|Hugh Jackman, Lie...|                2009|              107|   6.7|388447|            179.88|     40.0|\n",
      "| 969|             Wrecker|Action,Horror,Thr...|\"Best friends Emi...|\"\" they become th...|      Micheal Bafaro|Anna Hutchison, A...|             2015|    83|   3.5|            1210.0|     null|\n",
      "| 564|      Wreck-It Ralph|Animation,Adventu...|A video game vill...|          Rich Moore|John C. Reilly, J...|                2012|              101|   7.8|290559|            189.41|     72.0|\n",
      "| 880| Wrath of the Titans|Action,Adventure,...|Perseus braves th...|  Jonathan Liebesman|Sam Worthington, ...|                2012|               99|   5.8|159230|             83.64|     37.0|\n",
      "| 433|         World War Z|Action,Adventure,...|Former United Nat...|        Marc Forster|Brad Pitt, Mireil...|                2013|              116|     7|494819|            202.35|     63.0|\n",
      "+----+--------------------+--------------------+--------------------+--------------------+--------------------+--------------------+-----------------+------+------+------------------+---------+\n",
      "only showing top 20 rows\n",
      "\n"
     ]
    }
   ],
   "source": [
    "df.orderBy(col('Title').desc()).show()"
   ]
  },
  {
   "cell_type": "code",
   "execution_count": 18,
   "id": "2cf80735",
   "metadata": {},
   "outputs": [
    {
     "name": "stdout",
     "output_type": "stream",
     "text": [
      "+-----------------------------------------------------------------------------+-----+\n",
      "|Year                                                                         |count|\n",
      "+-----------------------------------------------------------------------------+-----+\n",
      "|2016                                                                         |292  |\n",
      "|2012                                                                         |64   |\n",
      "|2014                                                                         |96   |\n",
      "|Dane DeHaan, Jason Isaacs, Mia Goth, Ivo Nandi                               |1    |\n",
      "|2013                                                                         |91   |\n",
      "|Alessandro Carloni                                                           |1    |\n",
      "|2009                                                                         |51   |\n",
      "|2006                                                                         |43   |\n",
      "|Srdjan 'Zika' Todorovic, Sergej Trifunovic,Jelena Gavrilovic, Slobodan Bestic|1    |\n",
      "|Evan Goldberg                                                                |1    |\n",
      "|2011                                                                         |63   |\n",
      "|2008                                                                         |52   |\n",
      "|Jake Johnson, Damon Wayans Jr., Rob Riggle, Nina Dobrev                      |1    |\n",
      "| together with Scott Fischer                                                 |1    |\n",
      "|2007                                                                         |53   |\n",
      "|Essie Davis, Andrea Riseborough, Julian Barratt,Kenneth Branagh              |1    |\n",
      "|Anna Hutchison, Andrea Whitburn, Jennifer Koenig,Michael Dickson             |1    |\n",
      "|Jason Biggs, Janet Montgomery,Ashley Tisdale, Bria L. Murphy                 |1    |\n",
      "|Anna Kendrick, Sam Rockwell, Tim Roth, James Ransone                         |1    |\n",
      "|2015                                                                         |124  |\n",
      "+-----------------------------------------------------------------------------+-----+\n",
      "only showing top 20 rows\n",
      "\n"
     ]
    }
   ],
   "source": [
    "df.groupBy(col('Year')).count().show(truncate=False)"
   ]
  },
  {
   "cell_type": "code",
   "execution_count": 19,
   "id": "e66271af",
   "metadata": {},
   "outputs": [
    {
     "name": "stdout",
     "output_type": "stream",
     "text": [
      "+--------------------+--------------------+\n",
      "|               Title|                Year|\n",
      "+--------------------+--------------------+\n",
      "|Guardians of the ...|                2014|\n",
      "|          Prometheus|                2012|\n",
      "|               Split|                2016|\n",
      "|                Sing|                2016|\n",
      "|       Suicide Squad|                2016|\n",
      "|      The Great Wall|                2016|\n",
      "|          La La Land|                2016|\n",
      "|            Mindhorn|Essie Davis, Andr...|\n",
      "|  The Lost City of Z|                2016|\n",
      "|          Passengers|                2016|\n",
      "|Fantastic Beasts ...|                2016|\n",
      "|      Hidden Figures|                2016|\n",
      "|           Rogue One|                2016|\n",
      "|               Moana|                2016|\n",
      "|            Colossal|                2016|\n",
      "|The Secret Life o...|                2016|\n",
      "|       Hacksaw Ridge|                2016|\n",
      "|        Jason Bourne|                2016|\n",
      "|                Lion|                2016|\n",
      "|             Arrival|                2016|\n",
      "+--------------------+--------------------+\n",
      "only showing top 20 rows\n",
      "\n"
     ]
    }
   ],
   "source": [
    "df.select(col('Title'),col('Year')).show()"
   ]
  },
  {
   "cell_type": "code",
   "execution_count": 20,
   "id": "d9348f6f",
   "metadata": {},
   "outputs": [],
   "source": [
    "from pyspark.sql.functions import lit"
   ]
  },
  {
   "cell_type": "code",
   "execution_count": 21,
   "id": "c4f48240",
   "metadata": {},
   "outputs": [],
   "source": [
    "from datetime import datetime\n",
    "\n",
    "df = df.withColumn('update',lit(datetime.now()))"
   ]
  },
  {
   "cell_type": "code",
   "execution_count": 22,
   "id": "e38e526e",
   "metadata": {},
   "outputs": [
    {
     "name": "stdout",
     "output_type": "stream",
     "text": [
      "+----+--------------------+--------------------+--------------------+--------------------+--------------------+--------------------+-----------------+------+------+------------------+---------+--------------------+\n",
      "|Rank|               Title|               Genre|         Description|            Director|              Actors|                Year|Runtime (Minutes)|Rating| Votes|Revenue (Millions)|Metascore|              update|\n",
      "+----+--------------------+--------------------+--------------------+--------------------+--------------------+--------------------+-----------------+------+------+------------------+---------+--------------------+\n",
      "|   1|Guardians of the ...|Action,Adventure,...|A group of interg...|          James Gunn|Chris Pratt, Vin ...|                2014|              121|   8.1|757074|            333.13|     76.0|2023-09-22 07:59:...|\n",
      "|   2|          Prometheus|Adventure,Mystery...|Following clues t...|        Ridley Scott|Noomi Rapace, Log...|                2012|              124|     7|485820|            126.46|     65.0|2023-09-22 07:59:...|\n",
      "|   3|               Split|     Horror,Thriller|Three girls are k...|  M. Night Shyamalan|James McAvoy, Any...|                2016|              117|   7.3|157606|            138.12|     62.0|2023-09-22 07:59:...|\n",
      "|   4|                Sing|Animation,Comedy,...|In a city of huma...|Christophe Lourdelet|Matthew McConaugh...|                2016|              108|   7.2| 60545|            270.32|     59.0|2023-09-22 07:59:...|\n",
      "|   5|       Suicide Squad|Action,Adventure,...|A secret governme...|          David Ayer|Will Smith, Jared...|                2016|              123|   6.2|393727|            325.02|     40.0|2023-09-22 07:59:...|\n",
      "|   6|      The Great Wall|Action,Adventure,...|European mercenar...|         Yimou Zhang|Matt Damon, Tian ...|                2016|              103|   6.1| 56036|             45.13|     42.0|2023-09-22 07:59:...|\n",
      "|   7|          La La Land|  Comedy,Drama,Music|A jazz pianist fa...|     Damien Chazelle|Ryan Gosling, Emm...|                2016|              128|   8.3|258682|            151.06|     93.0|2023-09-22 07:59:...|\n",
      "|   8|            Mindhorn|              Comedy|\"A has-been actor...| whom he believes...|          Sean Foley|Essie Davis, Andr...|             2016|    89|   6.4|            2490.0|     null|2023-09-22 07:59:...|\n",
      "|   9|  The Lost City of Z|Action,Adventure,...|A true-life drama...|          James Gray|Charlie Hunnam, R...|                2016|              141|   7.1|  7188|              8.01|     78.0|2023-09-22 07:59:...|\n",
      "|  10|          Passengers|Adventure,Drama,R...|A spacecraft trav...|       Morten Tyldum|Jennifer Lawrence...|                2016|              116|     7|192177|            100.01|     41.0|2023-09-22 07:59:...|\n",
      "|  11|Fantastic Beasts ...|Adventure,Family,...|The adventures of...|         David Yates|Eddie Redmayne, K...|                2016|              133|   7.5|232072|            234.02|     66.0|2023-09-22 07:59:...|\n",
      "|  12|      Hidden Figures|Biography,Drama,H...|The story of a te...|      Theodore Melfi|Taraji P. Henson,...|                2016|              127|   7.8| 93103|            169.27|     74.0|2023-09-22 07:59:...|\n",
      "|  13|           Rogue One|Action,Adventure,...|The Rebel Allianc...|      Gareth Edwards|Felicity Jones, D...|                2016|              133|   7.9|323118|            532.17|     65.0|2023-09-22 07:59:...|\n",
      "|  14|               Moana|Animation,Adventu...|In Ancient Polyne...|        Ron Clements|Auli'i Cravalho, ...|                2016|              107|   7.7|118151|            248.75|     81.0|2023-09-22 07:59:...|\n",
      "|  15|            Colossal| Action,Comedy,Drama|Gloria is an out-...|     Nacho Vigalondo|Anne Hathaway, Ja...|                2016|              109|   6.4|  8612|              2.87|     70.0|2023-09-22 07:59:...|\n",
      "|  16|The Secret Life o...|Animation,Adventu...|The quiet life of...|        Chris Renaud|Louis C.K., Eric ...|                2016|               87|   6.6|120259|            368.31|     61.0|2023-09-22 07:59:...|\n",
      "|  17|       Hacksaw Ridge|Biography,Drama,H...|WWII American Arm...|          Mel Gibson|Andrew Garfield, ...|                2016|              139|   8.2|211760|             67.12|     71.0|2023-09-22 07:59:...|\n",
      "|  18|        Jason Bourne|     Action,Thriller|The CIA's most da...|     Paul Greengrass|Matt Damon, Tommy...|                2016|              123|   6.7|150823|            162.16|     58.0|2023-09-22 07:59:...|\n",
      "|  19|                Lion|     Biography,Drama|A five-year-old I...|         Garth Davis|Dev Patel, Nicole...|                2016|              118|   8.1|102061|             51.69|     69.0|2023-09-22 07:59:...|\n",
      "|  20|             Arrival|Drama,Mystery,Sci-Fi|When twelve myste...|    Denis Villeneuve|Amy Adams, Jeremy...|                2016|              116|     8|340798|             100.5|     81.0|2023-09-22 07:59:...|\n",
      "+----+--------------------+--------------------+--------------------+--------------------+--------------------+--------------------+-----------------+------+------+------------------+---------+--------------------+\n",
      "only showing top 20 rows\n",
      "\n"
     ]
    }
   ],
   "source": [
    "df.show()"
   ]
  },
  {
   "cell_type": "code",
   "execution_count": 23,
   "id": "622042f5",
   "metadata": {},
   "outputs": [
    {
     "name": "stdout",
     "output_type": "stream",
     "text": [
      "+----------+--------------------+--------------------+\n",
      "|      date|               Title|                Year|\n",
      "+----------+--------------------+--------------------+\n",
      "|2023-09-22|Guardians of the ...|                2014|\n",
      "|2023-09-22|          Prometheus|                2012|\n",
      "|2023-09-22|               Split|                2016|\n",
      "|2023-09-22|                Sing|                2016|\n",
      "|2023-09-22|       Suicide Squad|                2016|\n",
      "|2023-09-22|      The Great Wall|                2016|\n",
      "|2023-09-22|          La La Land|                2016|\n",
      "|2023-09-22|            Mindhorn|Essie Davis, Andr...|\n",
      "|2023-09-22|  The Lost City of Z|                2016|\n",
      "|2023-09-22|          Passengers|                2016|\n",
      "|2023-09-22|Fantastic Beasts ...|                2016|\n",
      "|2023-09-22|      Hidden Figures|                2016|\n",
      "|2023-09-22|           Rogue One|                2016|\n",
      "|2023-09-22|               Moana|                2016|\n",
      "|2023-09-22|            Colossal|                2016|\n",
      "|2023-09-22|The Secret Life o...|                2016|\n",
      "|2023-09-22|       Hacksaw Ridge|                2016|\n",
      "|2023-09-22|        Jason Bourne|                2016|\n",
      "|2023-09-22|                Lion|                2016|\n",
      "|2023-09-22|             Arrival|                2016|\n",
      "+----------+--------------------+--------------------+\n",
      "only showing top 20 rows\n",
      "\n"
     ]
    }
   ],
   "source": [
    "df.selectExpr('cast(update as date) as date','Title','Year').show()"
   ]
  },
  {
   "cell_type": "code",
   "execution_count": 24,
   "id": "5351817a",
   "metadata": {},
   "outputs": [
    {
     "name": "stdout",
     "output_type": "stream",
     "text": [
      "+--------------------+\n",
      "|               movie|\n",
      "+--------------------+\n",
      "|Guardians of the ...|\n",
      "|          Prometheus|\n",
      "|               Split|\n",
      "|                Sing|\n",
      "|       Suicide Squad|\n",
      "|      The Great Wall|\n",
      "|          La La Land|\n",
      "|            Mindhorn|\n",
      "|  The Lost City of Z|\n",
      "|          Passengers|\n",
      "|Fantastic Beasts ...|\n",
      "|      Hidden Figures|\n",
      "|           Rogue One|\n",
      "|               Moana|\n",
      "|            Colossal|\n",
      "|The Secret Life o...|\n",
      "|       Hacksaw Ridge|\n",
      "|        Jason Bourne|\n",
      "|                Lion|\n",
      "|             Arrival|\n",
      "+--------------------+\n",
      "only showing top 20 rows\n",
      "\n"
     ]
    }
   ],
   "source": [
    "df.select(col('Title').alias('movie')).show()"
   ]
  },
  {
   "cell_type": "code",
   "execution_count": 25,
   "id": "8405ae06",
   "metadata": {},
   "outputs": [
    {
     "data": {
      "text/plain": [
       "['Rank',\n",
       " 'Title',\n",
       " 'Genre',\n",
       " 'Description',\n",
       " 'Director',\n",
       " 'Actors',\n",
       " 'Year',\n",
       " 'Runtime (Minutes)',\n",
       " 'Rating',\n",
       " 'Votes',\n",
       " 'Revenue (Millions)',\n",
       " 'Metascore',\n",
       " 'update',\n",
       " 'movie']"
      ]
     },
     "execution_count": 25,
     "metadata": {},
     "output_type": "execute_result"
    }
   ],
   "source": [
    "df.withColumn('movie',col('Title')).columns"
   ]
  },
  {
   "cell_type": "code",
   "execution_count": 26,
   "id": "afdb14f0",
   "metadata": {},
   "outputs": [
    {
     "name": "stdout",
     "output_type": "stream",
     "text": [
      "+----------+\n",
      "|    update|\n",
      "+----------+\n",
      "|2023-09-22|\n",
      "|2023-09-22|\n",
      "|2023-09-22|\n",
      "|2023-09-22|\n",
      "|2023-09-22|\n",
      "|2023-09-22|\n",
      "|2023-09-22|\n",
      "|2023-09-22|\n",
      "|2023-09-22|\n",
      "|2023-09-22|\n",
      "|2023-09-22|\n",
      "|2023-09-22|\n",
      "|2023-09-22|\n",
      "|2023-09-22|\n",
      "|2023-09-22|\n",
      "|2023-09-22|\n",
      "|2023-09-22|\n",
      "|2023-09-22|\n",
      "|2023-09-22|\n",
      "|2023-09-22|\n",
      "+----------+\n",
      "only showing top 20 rows\n",
      "\n"
     ]
    }
   ],
   "source": [
    "df.select(col('update').cast('date')).show()"
   ]
  },
  {
   "cell_type": "code",
   "execution_count": 27,
   "id": "b042bf39",
   "metadata": {},
   "outputs": [
    {
     "name": "stdout",
     "output_type": "stream",
     "text": [
      "+--------------------+\n",
      "|                Year|\n",
      "+--------------------+\n",
      "|                2016|\n",
      "|                2012|\n",
      "|                2014|\n",
      "|Dane DeHaan, Jaso...|\n",
      "|                2013|\n",
      "|  Alessandro Carloni|\n",
      "|                2009|\n",
      "|                2006|\n",
      "|Srdjan 'Zika' Tod...|\n",
      "|       Evan Goldberg|\n",
      "|                2011|\n",
      "|                2008|\n",
      "|Jake Johnson, Dam...|\n",
      "| together with Sc...|\n",
      "|                2007|\n",
      "|Essie Davis, Andr...|\n",
      "|Anna Hutchison, A...|\n",
      "|Jason Biggs, Jane...|\n",
      "|Anna Kendrick, Sa...|\n",
      "|                2015|\n",
      "+--------------------+\n",
      "only showing top 20 rows\n",
      "\n"
     ]
    }
   ],
   "source": [
    "df.select(col('Year')).dropDuplicates().show()"
   ]
  },
  {
   "cell_type": "code",
   "execution_count": 28,
   "id": "b92920fd",
   "metadata": {},
   "outputs": [
    {
     "name": "stdout",
     "output_type": "stream",
     "text": [
      "+--------------------+\n",
      "|                Year|\n",
      "+--------------------+\n",
      "|                2016|\n",
      "|                2012|\n",
      "|                2014|\n",
      "|Dane DeHaan, Jaso...|\n",
      "|                2013|\n",
      "|  Alessandro Carloni|\n",
      "|                2009|\n",
      "|                2006|\n",
      "|Srdjan 'Zika' Tod...|\n",
      "|       Evan Goldberg|\n",
      "|                2011|\n",
      "|                2008|\n",
      "|Jake Johnson, Dam...|\n",
      "| together with Sc...|\n",
      "|                2007|\n",
      "|Essie Davis, Andr...|\n",
      "|Anna Hutchison, A...|\n",
      "|Jason Biggs, Jane...|\n",
      "|Anna Kendrick, Sa...|\n",
      "|                2015|\n",
      "+--------------------+\n",
      "only showing top 20 rows\n",
      "\n"
     ]
    }
   ],
   "source": [
    "df.select(col('Year')).distinct().show()"
   ]
  },
  {
   "cell_type": "code",
   "execution_count": 29,
   "id": "3d679cc3",
   "metadata": {},
   "outputs": [
    {
     "data": {
      "text/plain": [
       "23"
      ]
     },
     "execution_count": 29,
     "metadata": {},
     "output_type": "execute_result"
    }
   ],
   "source": [
    "df.select(col('Year')).dropDuplicates().count()"
   ]
  },
  {
   "cell_type": "code",
   "execution_count": 30,
   "id": "559724ac",
   "metadata": {},
   "outputs": [
    {
     "data": {
      "text/plain": [
       "23"
      ]
     },
     "execution_count": 30,
     "metadata": {},
     "output_type": "execute_result"
    }
   ],
   "source": [
    "df.select(col('Year')).distinct().count()"
   ]
  },
  {
   "cell_type": "code",
   "execution_count": 31,
   "id": "3fb55d23",
   "metadata": {},
   "outputs": [
    {
     "name": "stdout",
     "output_type": "stream",
     "text": [
      "+--------------------+-----+\n",
      "|                Year|count|\n",
      "+--------------------+-----+\n",
      "|                2016|  292|\n",
      "|                2012|   64|\n",
      "|                2014|   96|\n",
      "|Dane DeHaan, Jaso...|    1|\n",
      "|                2013|   91|\n",
      "|  Alessandro Carloni|    1|\n",
      "|                2009|   51|\n",
      "|                2006|   43|\n",
      "|Srdjan 'Zika' Tod...|    1|\n",
      "|       Evan Goldberg|    1|\n",
      "|                2011|   63|\n",
      "|                2008|   52|\n",
      "|Jake Johnson, Dam...|    1|\n",
      "| together with Sc...|    1|\n",
      "|                2007|   53|\n",
      "|Essie Davis, Andr...|    1|\n",
      "|Anna Hutchison, A...|    1|\n",
      "|Jason Biggs, Jane...|    1|\n",
      "|Anna Kendrick, Sa...|    1|\n",
      "|                2015|  124|\n",
      "+--------------------+-----+\n",
      "only showing top 20 rows\n",
      "\n"
     ]
    }
   ],
   "source": [
    "df.groupBy(col(\"Year\")).count().show()"
   ]
  },
  {
   "cell_type": "code",
   "execution_count": 32,
   "id": "04d3ba61",
   "metadata": {},
   "outputs": [
    {
     "name": "stdout",
     "output_type": "stream",
     "text": [
      "+--------------------+-----------+------------+------------+\n",
      "|                Year|Movie count|Minimum rank|Maximum rank|\n",
      "+--------------------+-----------+------------+------------+\n",
      "|                2016|        292|           3|        1000|\n",
      "|                2012|         64|           2|         995|\n",
      "|                2014|         96|           1|         999|\n",
      "|Dane DeHaan, Jaso...|          1|         202|         202|\n",
      "|                2013|         91|          83|         971|\n",
      "|  Alessandro Carloni|          1|         604|         604|\n",
      "|                2009|         51|          78|         991|\n",
      "|                2006|         43|          65|         966|\n",
      "|Srdjan 'Zika' Tod...|          1|         429|         429|\n",
      "|       Evan Goldberg|          1|         632|         632|\n",
      "|                2011|         63|          46|         993|\n",
      "|                2008|         52|          55|         998|\n",
      "|Jake Johnson, Dam...|          1|         984|         984|\n",
      "| together with Sc...|          1|         386|         386|\n",
      "|                2007|         53|          40|         997|\n",
      "|Essie Davis, Andr...|          1|           8|           8|\n",
      "|Anna Hutchison, A...|          1|         969|         969|\n",
      "|Jason Biggs, Jane...|          1|         978|         978|\n",
      "|Anna Kendrick, Sa...|          1|         619|         619|\n",
      "|                2015|        124|          27|         996|\n",
      "+--------------------+-----------+------------+------------+\n",
      "only showing top 20 rows\n",
      "\n"
     ]
    }
   ],
   "source": [
    "from pyspark.sql.functions import count,min,max\n",
    "\n",
    "df.groupBy(\"Year\").agg(count('*').alias(\"Movie count\"),\n",
    "                      min(\"Rank\").alias(\"Minimum rank\"),\n",
    "                      max('Rank').alias(\"Maximum rank\")).show()"
   ]
  },
  {
   "cell_type": "code",
   "execution_count": 33,
   "id": "e6d7e195",
   "metadata": {},
   "outputs": [
    {
     "name": "stdout",
     "output_type": "stream",
     "text": [
      "+----+--------------------+--------------------+--------------------+--------------------+--------------------+--------------------+-----------------+------+------+------------------+---------+--------------------+\n",
      "|Rank|               Title|               Genre|         Description|            Director|              Actors|                Year|Runtime (Minutes)|Rating| Votes|Revenue (Millions)|Metascore|              update|\n",
      "+----+--------------------+--------------------+--------------------+--------------------+--------------------+--------------------+-----------------+------+------+------------------+---------+--------------------+\n",
      "|   1|Guardians of the ...|Action,Adventure,...|A group of interg...|          James Gunn|Chris Pratt, Vin ...|                2014|              121|   8.1|757074|            333.13|     76.0|2023-09-22 07:59:...|\n",
      "|   2|          Prometheus|Adventure,Mystery...|Following clues t...|        Ridley Scott|Noomi Rapace, Log...|                2012|              124|     7|485820|            126.46|     65.0|2023-09-22 07:59:...|\n",
      "|   3|               Split|     Horror,Thriller|Three girls are k...|  M. Night Shyamalan|James McAvoy, Any...|                2016|              117|   7.3|157606|            138.12|     62.0|2023-09-22 07:59:...|\n",
      "|   4|                Sing|Animation,Comedy,...|In a city of huma...|Christophe Lourdelet|Matthew McConaugh...|                2016|              108|   7.2| 60545|            270.32|     59.0|2023-09-22 07:59:...|\n",
      "|   5|       Suicide Squad|Action,Adventure,...|A secret governme...|          David Ayer|Will Smith, Jared...|                2016|              123|   6.2|393727|            325.02|     40.0|2023-09-22 07:59:...|\n",
      "|   6|      The Great Wall|Action,Adventure,...|European mercenar...|         Yimou Zhang|Matt Damon, Tian ...|                2016|              103|   6.1| 56036|             45.13|     42.0|2023-09-22 07:59:...|\n",
      "|   7|          La La Land|  Comedy,Drama,Music|A jazz pianist fa...|     Damien Chazelle|Ryan Gosling, Emm...|                2016|              128|   8.3|258682|            151.06|     93.0|2023-09-22 07:59:...|\n",
      "|   8|            Mindhorn|              Comedy|\"A has-been actor...| whom he believes...|          Sean Foley|Essie Davis, Andr...|             2016|    89|   6.4|            2490.0|     null|2023-09-22 07:59:...|\n",
      "|   9|  The Lost City of Z|Action,Adventure,...|A true-life drama...|          James Gray|Charlie Hunnam, R...|                2016|              141|   7.1|  7188|              8.01|     78.0|2023-09-22 07:59:...|\n",
      "|  10|          Passengers|Adventure,Drama,R...|A spacecraft trav...|       Morten Tyldum|Jennifer Lawrence...|                2016|              116|     7|192177|            100.01|     41.0|2023-09-22 07:59:...|\n",
      "|  11|Fantastic Beasts ...|Adventure,Family,...|The adventures of...|         David Yates|Eddie Redmayne, K...|                2016|              133|   7.5|232072|            234.02|     66.0|2023-09-22 07:59:...|\n",
      "|  12|      Hidden Figures|Biography,Drama,H...|The story of a te...|      Theodore Melfi|Taraji P. Henson,...|                2016|              127|   7.8| 93103|            169.27|     74.0|2023-09-22 07:59:...|\n",
      "|  13|           Rogue One|Action,Adventure,...|The Rebel Allianc...|      Gareth Edwards|Felicity Jones, D...|                2016|              133|   7.9|323118|            532.17|     65.0|2023-09-22 07:59:...|\n",
      "|  14|               Moana|Animation,Adventu...|In Ancient Polyne...|        Ron Clements|Auli'i Cravalho, ...|                2016|              107|   7.7|118151|            248.75|     81.0|2023-09-22 07:59:...|\n",
      "|  15|            Colossal| Action,Comedy,Drama|Gloria is an out-...|     Nacho Vigalondo|Anne Hathaway, Ja...|                2016|              109|   6.4|  8612|              2.87|     70.0|2023-09-22 07:59:...|\n",
      "|  16|The Secret Life o...|Animation,Adventu...|The quiet life of...|        Chris Renaud|Louis C.K., Eric ...|                2016|               87|   6.6|120259|            368.31|     61.0|2023-09-22 07:59:...|\n",
      "|  17|       Hacksaw Ridge|Biography,Drama,H...|WWII American Arm...|          Mel Gibson|Andrew Garfield, ...|                2016|              139|   8.2|211760|             67.12|     71.0|2023-09-22 07:59:...|\n",
      "|  18|        Jason Bourne|     Action,Thriller|The CIA's most da...|     Paul Greengrass|Matt Damon, Tommy...|                2016|              123|   6.7|150823|            162.16|     58.0|2023-09-22 07:59:...|\n",
      "|  19|                Lion|     Biography,Drama|A five-year-old I...|         Garth Davis|Dev Patel, Nicole...|                2016|              118|   8.1|102061|             51.69|     69.0|2023-09-22 07:59:...|\n",
      "|  20|             Arrival|Drama,Mystery,Sci-Fi|When twelve myste...|    Denis Villeneuve|Amy Adams, Jeremy...|                2016|              116|     8|340798|             100.5|     81.0|2023-09-22 07:59:...|\n",
      "+----+--------------------+--------------------+--------------------+--------------------+--------------------+--------------------+-----------------+------+------+------------------+---------+--------------------+\n",
      "only showing top 20 rows\n",
      "\n"
     ]
    }
   ],
   "source": [
    "df.show()"
   ]
  },
  {
   "cell_type": "code",
   "execution_count": 34,
   "id": "b5bc430b",
   "metadata": {},
   "outputs": [
    {
     "data": {
      "text/plain": [
       "['Rank',\n",
       " 'Title',\n",
       " 'Genre',\n",
       " 'Description',\n",
       " 'Director',\n",
       " 'Actors',\n",
       " 'Year',\n",
       " 'Runtime (Minutes)',\n",
       " 'Rating',\n",
       " 'Votes',\n",
       " 'Revenue (Millions)',\n",
       " 'Metascore',\n",
       " 'update']"
      ]
     },
     "execution_count": 34,
     "metadata": {},
     "output_type": "execute_result"
    }
   ],
   "source": [
    "df.columns"
   ]
  },
  {
   "cell_type": "code",
   "execution_count": 35,
   "id": "77789f8d",
   "metadata": {},
   "outputs": [
    {
     "data": {
      "text/plain": [
       "['Genre',\n",
       " 'Description',\n",
       " 'Actors',\n",
       " 'Year',\n",
       " 'Runtime (Minutes)',\n",
       " 'Rating',\n",
       " 'Votes',\n",
       " 'Revenue (Millions)',\n",
       " 'Metascore',\n",
       " 'update']"
      ]
     },
     "execution_count": 35,
     "metadata": {},
     "output_type": "execute_result"
    }
   ],
   "source": [
    "df.drop(col('Rank'),col('Title'),col('Director')).columns"
   ]
  },
  {
   "cell_type": "code",
   "execution_count": 36,
   "id": "d6f5bc37",
   "metadata": {},
   "outputs": [
    {
     "data": {
      "text/plain": [
       "['Rank',\n",
       " 'Title',\n",
       " 'Genre',\n",
       " 'Description',\n",
       " 'Director',\n",
       " 'Actors',\n",
       " 'Year',\n",
       " 'Runtime (Minutes)',\n",
       " 'Rating',\n",
       " 'Votes',\n",
       " 'Revenue (Millions)',\n",
       " 'Metascore',\n",
       " 'update']"
      ]
     },
     "execution_count": 36,
     "metadata": {},
     "output_type": "execute_result"
    }
   ],
   "source": [
    "df.columns"
   ]
  },
  {
   "cell_type": "code",
   "execution_count": 37,
   "id": "c976f570",
   "metadata": {},
   "outputs": [
    {
     "name": "stdout",
     "output_type": "stream",
     "text": [
      "+--------------------+------+----+\n",
      "|               Title|Rating|Rate|\n",
      "+--------------------+------+----+\n",
      "|Guardians of the ...|   8.1|Best|\n",
      "|          Prometheus|     7|Good|\n",
      "|               Split|   7.3|Good|\n",
      "|                Sing|   7.2|Good|\n",
      "|       Suicide Squad|   6.2|Good|\n",
      "|      The Great Wall|   6.1|Good|\n",
      "|          La La Land|   8.3|Best|\n",
      "|            Mindhorn|    89|Best|\n",
      "|  The Lost City of Z|   7.1|Good|\n",
      "|          Passengers|     7|Good|\n",
      "|Fantastic Beasts ...|   7.5|Good|\n",
      "|      Hidden Figures|   7.8|Good|\n",
      "|           Rogue One|   7.9|Good|\n",
      "|               Moana|   7.7|Good|\n",
      "|            Colossal|   6.4|Good|\n",
      "|The Secret Life o...|   6.6|Good|\n",
      "|       Hacksaw Ridge|   8.2|Best|\n",
      "|        Jason Bourne|   6.7|Good|\n",
      "|                Lion|   8.1|Best|\n",
      "|             Arrival|     8|Good|\n",
      "+--------------------+------+----+\n",
      "only showing top 20 rows\n",
      "\n"
     ]
    }
   ],
   "source": [
    "#when and otherwise statement in the pyspark\n",
    "\n",
    "from pyspark.sql.functions import when\n",
    "df.select(col(\"Title\"),col('Rating'),when(col('Rating')<=5.0,'Avarage').when(col('Rating')<=8.0,'Good').\\\n",
    "          otherwise('Best').alias(\"Rate\")).show()\n",
    "          "
   ]
  },
  {
   "cell_type": "code",
   "execution_count": 38,
   "id": "dc0eaa20",
   "metadata": {},
   "outputs": [
    {
     "name": "stdout",
     "output_type": "stream",
     "text": [
      "+--------------------+------+-------+\n",
      "|               Title|Rating|   Rate|\n",
      "+--------------------+------+-------+\n",
      "|Guardians of the ...|   8.1|   Best|\n",
      "|          Prometheus|     7|Avarage|\n",
      "|               Split|   7.3|Avarage|\n",
      "|                Sing|   7.2|Avarage|\n",
      "|       Suicide Squad|   6.2|Avarage|\n",
      "|      The Great Wall|   6.1|Avarage|\n",
      "|          La La Land|   8.3|   Best|\n",
      "|            Mindhorn|    89|   Best|\n",
      "|  The Lost City of Z|   7.1|Avarage|\n",
      "|          Passengers|     7|Avarage|\n",
      "|Fantastic Beasts ...|   7.5|Avarage|\n",
      "|      Hidden Figures|   7.8|Avarage|\n",
      "|           Rogue One|   7.9|Avarage|\n",
      "|               Moana|   7.7|Avarage|\n",
      "|            Colossal|   6.4|Avarage|\n",
      "|The Secret Life o...|   6.6|Avarage|\n",
      "|       Hacksaw Ridge|   8.2|   Best|\n",
      "|        Jason Bourne|   6.7|Avarage|\n",
      "|                Lion|   8.1|   Best|\n",
      "|             Arrival|     8|   Best|\n",
      "+--------------------+------+-------+\n",
      "only showing top 20 rows\n",
      "\n"
     ]
    }
   ],
   "source": [
    "#when and otherwise statement in the pyspark\n",
    "\n",
    "from pyspark.sql.functions import when\n",
    "df.select(col(\"Title\"),col('Rating'),when((col('Rating')<5.0) | (col('Rating')<8.0),'Avarage').\\\n",
    "          otherwise('Best').alias(\"Rate\")).show()\n",
    "          "
   ]
  },
  {
   "cell_type": "code",
   "execution_count": 39,
   "id": "c875acc7",
   "metadata": {},
   "outputs": [
    {
     "data": {
      "text/plain": [
       "['Rank',\n",
       " 'Title',\n",
       " 'Genre',\n",
       " 'Description',\n",
       " 'Director',\n",
       " 'Actors',\n",
       " 'Year',\n",
       " 'Runtime (Minutes)',\n",
       " 'Rating',\n",
       " 'Votes',\n",
       " 'Revenue (Millions)',\n",
       " 'Metascore',\n",
       " 'update']"
      ]
     },
     "execution_count": 39,
     "metadata": {},
     "output_type": "execute_result"
    }
   ],
   "source": [
    "df.columns"
   ]
  },
  {
   "cell_type": "code",
   "execution_count": 40,
   "id": "53e7a1fc",
   "metadata": {},
   "outputs": [
    {
     "name": "stdout",
     "output_type": "stream",
     "text": [
      "+--------+\n",
      "| New_col|\n",
      "+--------+\n",
      "| 1_shell|\n",
      "| 2_shell|\n",
      "| 3_shell|\n",
      "| 4_shell|\n",
      "| 5_shell|\n",
      "| 6_shell|\n",
      "| 7_shell|\n",
      "| 8_shell|\n",
      "| 9_shell|\n",
      "|10_shell|\n",
      "|11_shell|\n",
      "|12_shell|\n",
      "|13_shell|\n",
      "|14_shell|\n",
      "|15_shell|\n",
      "|16_shell|\n",
      "|17_shell|\n",
      "|18_shell|\n",
      "|19_shell|\n",
      "|20_shell|\n",
      "+--------+\n",
      "only showing top 20 rows\n",
      "\n"
     ]
    }
   ],
   "source": [
    "from pyspark.sql.types import StringType\n",
    "from pyspark.sql.functions import concat\n",
    "\n",
    "df.select((concat(col('Rank').cast(StringType()),lit('_shell'))).alias('New_col')).show()"
   ]
  },
  {
   "cell_type": "code",
   "execution_count": 48,
   "id": "8a09c636",
   "metadata": {},
   "outputs": [],
   "source": [
    "def concat_shell(column):\n",
    "    return str(column)+\"_shell\""
   ]
  },
  {
   "cell_type": "code",
   "execution_count": 49,
   "id": "f49637db",
   "metadata": {},
   "outputs": [
    {
     "data": {
      "text/plain": [
       "['Rank',\n",
       " 'Title',\n",
       " 'Genre',\n",
       " 'Description',\n",
       " 'Director',\n",
       " 'Actors',\n",
       " 'Year',\n",
       " 'Runtime (Minutes)',\n",
       " 'Rating',\n",
       " 'Votes',\n",
       " 'Revenue (Millions)',\n",
       " 'Metascore',\n",
       " 'update']"
      ]
     },
     "execution_count": 49,
     "metadata": {},
     "output_type": "execute_result"
    }
   ],
   "source": [
    "df.columns"
   ]
  },
  {
   "cell_type": "code",
   "execution_count": 50,
   "id": "3621f3a0",
   "metadata": {},
   "outputs": [],
   "source": [
    "from pyspark.sql.functions import udf\n",
    "my_udf = udf(concat_shell,StringType())"
   ]
  },
  {
   "cell_type": "code",
   "execution_count": 52,
   "id": "1fa67758",
   "metadata": {},
   "outputs": [
    {
     "name": "stdout",
     "output_type": "stream",
     "text": [
      "+--------+\n",
      "|  newcol|\n",
      "+--------+\n",
      "| 1_shell|\n",
      "| 2_shell|\n",
      "| 3_shell|\n",
      "| 4_shell|\n",
      "| 5_shell|\n",
      "| 6_shell|\n",
      "| 7_shell|\n",
      "| 8_shell|\n",
      "| 9_shell|\n",
      "|10_shell|\n",
      "|11_shell|\n",
      "|12_shell|\n",
      "|13_shell|\n",
      "|14_shell|\n",
      "|15_shell|\n",
      "|16_shell|\n",
      "|17_shell|\n",
      "|18_shell|\n",
      "|19_shell|\n",
      "|20_shell|\n",
      "+--------+\n",
      "only showing top 20 rows\n",
      "\n"
     ]
    }
   ],
   "source": [
    "df.select(my_udf(col('Rank')).alias('newcol')).show()"
   ]
  },
  {
   "cell_type": "code",
   "execution_count": 55,
   "id": "9022434e",
   "metadata": {},
   "outputs": [],
   "source": [
    "@udf(returnType=StringType())\n",
    "def concat_shell(column):\n",
    "    return str(column)+\"__shell__\""
   ]
  },
  {
   "cell_type": "code",
   "execution_count": 56,
   "id": "616d743a",
   "metadata": {},
   "outputs": [
    {
     "name": "stdout",
     "output_type": "stream",
     "text": [
      "+-----------+\n",
      "|        col|\n",
      "+-----------+\n",
      "| 1__shell__|\n",
      "| 2__shell__|\n",
      "| 3__shell__|\n",
      "| 4__shell__|\n",
      "| 5__shell__|\n",
      "| 6__shell__|\n",
      "| 7__shell__|\n",
      "| 8__shell__|\n",
      "| 9__shell__|\n",
      "|10__shell__|\n",
      "|11__shell__|\n",
      "|12__shell__|\n",
      "|13__shell__|\n",
      "|14__shell__|\n",
      "|15__shell__|\n",
      "|16__shell__|\n",
      "|17__shell__|\n",
      "|18__shell__|\n",
      "|19__shell__|\n",
      "|20__shell__|\n",
      "+-----------+\n",
      "only showing top 20 rows\n",
      "\n"
     ]
    }
   ],
   "source": [
    "df.select(concat_shell(col('Rank')).alias(\"col\")).show()"
   ]
  },
  {
   "cell_type": "code",
   "execution_count": 58,
   "id": "964e4a3e",
   "metadata": {},
   "outputs": [],
   "source": [
    "n = df.cache()"
   ]
  },
  {
   "cell_type": "code",
   "execution_count": 59,
   "id": "ed3f556c",
   "metadata": {},
   "outputs": [
    {
     "name": "stdout",
     "output_type": "stream",
     "text": [
      "+----+--------------------+--------------------+--------------------+--------------------+--------------------+----+-----------------+------+------+------------------+---------+--------------------+\n",
      "|Rank|               Title|               Genre|         Description|            Director|              Actors|Year|Runtime (Minutes)|Rating| Votes|Revenue (Millions)|Metascore|              update|\n",
      "+----+--------------------+--------------------+--------------------+--------------------+--------------------+----+-----------------+------+------+------------------+---------+--------------------+\n",
      "|   1|Guardians of the ...|Action,Adventure,...|A group of interg...|          James Gunn|Chris Pratt, Vin ...|2014|              121|   8.1|757074|            333.13|     76.0|2023-09-22 07:59:...|\n",
      "|   2|          Prometheus|Adventure,Mystery...|Following clues t...|        Ridley Scott|Noomi Rapace, Log...|2012|              124|     7|485820|            126.46|     65.0|2023-09-22 07:59:...|\n",
      "|   3|               Split|     Horror,Thriller|Three girls are k...|  M. Night Shyamalan|James McAvoy, Any...|2016|              117|   7.3|157606|            138.12|     62.0|2023-09-22 07:59:...|\n",
      "|   4|                Sing|Animation,Comedy,...|In a city of huma...|Christophe Lourdelet|Matthew McConaugh...|2016|              108|   7.2| 60545|            270.32|     59.0|2023-09-22 07:59:...|\n",
      "+----+--------------------+--------------------+--------------------+--------------------+--------------------+----+-----------------+------+------+------------------+---------+--------------------+\n",
      "only showing top 4 rows\n",
      "\n"
     ]
    }
   ],
   "source": [
    "n.show(4)"
   ]
  },
  {
   "cell_type": "code",
   "execution_count": 71,
   "id": "822a0cfe",
   "metadata": {},
   "outputs": [
    {
     "name": "stderr",
     "output_type": "stream",
     "text": [
      "                                                                                \r"
     ]
    }
   ],
   "source": [
    "customerdf = spark.read.option(\"delimiter\",\"\\t\").csv('/home/labuser/Documents/Python/Retail_Dataset/customer.csv',inferSchema=True,header=True)\n",
    "lineitemdf = spark.read.option(\"delimiter\",\"\\t\").csv('/home/labuser/Documents/Python/Retail_Dataset/lineitem.csv',inferSchema=True,header=True)\n",
    "ordersdf = spark.read.option(\"delimiter\",\"\\t\").csv('/home/labuser/Documents/Python/Retail_Dataset/orders.csv',inferSchema=True,header=True)\n",
    "nationdf = spark.read.option(\"delimiter\",\"\\t\").csv('/home/labuser/Documents/Python/Retail_Dataset/nation.csv',inferSchema=True,header=True)\n",
    "partdf = spark.read.option(\"delimiter\",\"\\t\").csv('/home/labuser/Documents/Python/Retail_Dataset/part.csv',inferSchema=True,header=True)\n",
    "partsuppdf = spark.read.option(\"delimiter\",\"\\t\").csv('/home/labuser/Documents/Python/Retail_Dataset/partsupp.csv',inferSchema=True,header=True)\n",
    "supplierdf = spark.read.option(\"delimiter\",\"\\t\").csv('/home/labuser/Documents/Python/Retail_Dataset/supplier.csv',inferSchema=True,header=True)\n",
    "regiondf = spark.read.option(\"delimiter\",\"\\t\").csv('/home/labuser/Documents/Python/Retail_Dataset/region.csv',inferSchema=True,header=True)"
   ]
  },
  {
   "cell_type": "code",
   "execution_count": 73,
   "id": "61d92b79",
   "metadata": {},
   "outputs": [
    {
     "name": "stdout",
     "output_type": "stream",
     "text": [
      "+---------+------------------+--------------------+-----------+---------------+---------+------------+--------------------+\n",
      "|C_CUSTKEY|            C_NAME|           C_ADDRESS|C_NATIONKEY|        C_PHONE|C_ACCTBAL|C_MKTSEGMENT|           C_COMMENT|\n",
      "+---------+------------------+--------------------+-----------+---------------+---------+------------+--------------------+\n",
      "|        1|Customer#000000001|   IVhzIApeRb ot,c,E|         15|25-989-741-2988|   711.56|    BUILDING|to the even, regu...|\n",
      "|        2|Customer#000000002|XSTf4,NCwDVaWNe6t...|         13|23-768-687-3665|   121.65|  AUTOMOBILE|l accounts. blith...|\n",
      "|        3|Customer#000000003|        MG9kdTD2WBHm|          1|11-719-748-3364|  7498.12|  AUTOMOBILE| deposits eat sly...|\n",
      "|        4|Customer#000000004|         XxVSJsLAGtn|          4|14-128-190-5944|  2866.83|   MACHINERY| requests. final,...|\n",
      "+---------+------------------+--------------------+-----------+---------------+---------+------------+--------------------+\n",
      "only showing top 4 rows\n",
      "\n"
     ]
    }
   ],
   "source": [
    "customerdf.show(4)"
   ]
  },
  {
   "cell_type": "code",
   "execution_count": 75,
   "id": "bd0706e5",
   "metadata": {},
   "outputs": [
    {
     "name": "stdout",
     "output_type": "stream",
     "text": [
      "root\n",
      " |-- C_CUSTKEY: integer (nullable = true)\n",
      " |-- C_NAME: string (nullable = true)\n",
      " |-- C_ADDRESS: string (nullable = true)\n",
      " |-- C_NATIONKEY: integer (nullable = true)\n",
      " |-- C_PHONE: string (nullable = true)\n",
      " |-- C_ACCTBAL: double (nullable = true)\n",
      " |-- C_MKTSEGMENT: string (nullable = true)\n",
      " |-- C_COMMENT: string (nullable = true)\n",
      "\n",
      "root\n",
      " |-- L_ORDERKEY: integer (nullable = true)\n",
      " |-- L_PARTKEY: integer (nullable = true)\n",
      " |-- L_SUPPKEY: integer (nullable = true)\n",
      " |-- L_LINENUMBER: integer (nullable = true)\n",
      " |-- L_QUANTITY: double (nullable = true)\n",
      " |-- L_EXTENDEDPRICE: double (nullable = true)\n",
      " |-- L_DISCOUNT: double (nullable = true)\n",
      " |-- L_TAX: double (nullable = true)\n",
      " |-- L_RETURNFLAG: string (nullable = true)\n",
      " |-- L_LINESTATUS: string (nullable = true)\n",
      " |-- L_SHIPDATE: date (nullable = true)\n",
      " |-- L_COMMITDATE: date (nullable = true)\n",
      " |-- L_RECEIPTDATE: date (nullable = true)\n",
      " |-- L_SHIPINSTRUCT: string (nullable = true)\n",
      " |-- L_SHIPMODE: string (nullable = true)\n",
      " |-- L_COMMENT: string (nullable = true)\n",
      "\n",
      "root\n",
      " |-- N_NATIONKEY: integer (nullable = true)\n",
      " |-- N_NAME: string (nullable = true)\n",
      " |-- N_REGIONKEY: integer (nullable = true)\n",
      " |-- N_COMMENT: string (nullable = true)\n",
      "\n",
      "root\n",
      " |-- O_ORDERKEY: integer (nullable = true)\n",
      " |-- O_CUSTKEY: integer (nullable = true)\n",
      " |-- O_ORDERSTATUS: string (nullable = true)\n",
      " |-- O_TOTALPRICE: double (nullable = true)\n",
      " |-- O_ORDERDATE: date (nullable = true)\n",
      " |-- O_ORDERPRIORITY: string (nullable = true)\n",
      " |-- O_CLERK: string (nullable = true)\n",
      " |-- O_SHIPPRIORITY: integer (nullable = true)\n",
      " |-- O_COMMENT: string (nullable = true)\n",
      "\n",
      "root\n",
      " |-- P_PARTKEY: integer (nullable = true)\n",
      " |-- P_NAME: string (nullable = true)\n",
      " |-- P_MFGR: string (nullable = true)\n",
      " |-- P_BRAND: string (nullable = true)\n",
      " |-- P_TYPE: string (nullable = true)\n",
      " |-- P_SIZE: integer (nullable = true)\n",
      " |-- P_CONTAINER: string (nullable = true)\n",
      " |-- P_RETAILPRICE: double (nullable = true)\n",
      " |-- P_COMMENT: string (nullable = true)\n",
      "\n",
      "root\n",
      " |-- PS_PARTKEY: integer (nullable = true)\n",
      " |-- PS_SUPPKEY: integer (nullable = true)\n",
      " |-- PS_AVAILQTY: integer (nullable = true)\n",
      " |-- PS_SUPPLYCOST: double (nullable = true)\n",
      " |-- PS_COMMENT: string (nullable = true)\n",
      "\n",
      "root\n",
      " |-- R_REGIONKEY: integer (nullable = true)\n",
      " |-- R_NAME: string (nullable = true)\n",
      " |-- R_COMMENT: string (nullable = true)\n",
      "\n",
      "root\n",
      " |-- S_SUPPKEY: integer (nullable = true)\n",
      " |-- S_NAME: string (nullable = true)\n",
      " |-- S_ADDRESS: string (nullable = true)\n",
      " |-- S_NATIONKEY: integer (nullable = true)\n",
      " |-- S_PHONE: string (nullable = true)\n",
      " |-- S_ACCTBAL: double (nullable = true)\n",
      " |-- S_COMMENT: string (nullable = true)\n",
      "\n"
     ]
    }
   ],
   "source": [
    "customerdf.printSchema()\n",
    "lineitemdf.printSchema()\n",
    "nationdf.printSchema()\n",
    "ordersdf.printSchema()\n",
    "partdf.printSchema()\n",
    "partsuppdf.printSchema()\n",
    "regiondf.printSchema()\n",
    "supplierdf.printSchema()"
   ]
  },
  {
   "cell_type": "code",
   "execution_count": 76,
   "id": "513a908d",
   "metadata": {},
   "outputs": [
    {
     "name": "stdout",
     "output_type": "stream",
     "text": [
      "+---------+------------------+--------------------+-----------+---------------+---------+------------+--------------------+----------+---------+-------------+------------+-----------+---------------+---------------+--------------+--------------------+\n",
      "|C_CUSTKEY|            C_NAME|           C_ADDRESS|C_NATIONKEY|        C_PHONE|C_ACCTBAL|C_MKTSEGMENT|           C_COMMENT|O_ORDERKEY|O_CUSTKEY|O_ORDERSTATUS|O_TOTALPRICE|O_ORDERDATE|O_ORDERPRIORITY|        O_CLERK|O_SHIPPRIORITY|           O_COMMENT|\n",
      "+---------+------------------+--------------------+-----------+---------------+---------+------------+--------------------+----------+---------+-------------+------------+-----------+---------------+---------------+--------------+--------------------+\n",
      "|      370|Customer#000000370|          oyAPndV IN|         12|22-524-280-8721|  8982.79|   FURNITURE|ges. final packag...|         1|      370|            O|   172799.49| 1996-01-02|          5-LOW|Clerk#000000951|             0|nstructions sleep...|\n",
      "|      781|Customer#000000781|FQCAkyfV0 kL3,FNA...|         18|28-478-388-5881|  6403.62|   MACHINERY|ake blithely blit...|         2|      781|            O|    38426.09| 1996-12-01|       1-URGENT|Clerk#000000880|             0| foxes. pending a...|\n",
      "|     1234|Customer#000001234|B3OhbH0MRJE,F0Lc7...|          1|11-742-434-6436|  -982.32|   FURNITURE|y ironic instruct...|         3|     1234|            F|    205654.3| 1993-10-14|          5-LOW|Clerk#000000955|             0|sly final account...|\n",
      "|     1369|Customer#000001369|rXTwOzU0a2ak4Nj5L...|         10|20-232-617-7418|   498.77|  AUTOMOBILE|ong the ironic id...|         4|     1369|            O|    56000.91| 1995-10-11|          5-LOW|Clerk#000000124|             0|sits. slyly regul...|\n",
      "|      445|Customer#000000445|MX1UA0KUJzIGyWM p...|         20|30-849-846-6070|  8018.81|   FURNITURE|e ironic, special...|         5|      445|            F|   105367.67| 1994-07-30|          5-LOW|Clerk#000000925|             0|quickly. bold dep...|\n",
      "|      557|Customer#000000557|          Nt6FUuDR7v|         15|25-390-153-6699|  9559.04|    BUILDING|furiously pending...|         6|      557|            F|     45523.1| 1992-02-21|4-NOT SPECIFIED|Clerk#000000058|             0|ggle. special, fi...|\n",
      "|      392|Customer#000000392|          H7M6JObndO|         17|27-601-793-2507|  8492.33|    BUILDING|efully bold ideas...|         7|      392|            O|   271885.66| 1996-01-10|         2-HIGH|Clerk#000000470|             0|ly special requests |\n",
      "|     1301|Customer#000001301|oR0kHfL6GWhF VPD,...|         10|20-339-347-9046|  8966.63|   MACHINERY|egular asymptotes...|        32|     1301|            O|   198665.57| 1995-07-16|         2-HIGH|Clerk#000000616|             0|ise blithely bold...|\n",
      "|      670|Customer#000000670|         RJtcLv6Tjpx|          2|12-839-426-4266|  6738.93|    BUILDING|y unusual deposit...|        33|      670|            F|   146567.24| 1993-10-27|       3-MEDIUM|Clerk#000000409|             0|uriously. furious...|\n",
      "|      611|Customer#000000611|E1dtWGHE7NrLfnSKLPFU|         19|29-924-242-5243|  4272.43|   HOUSEHOLD|inst the slyly fi...|        34|      611|            O|    73315.48| 1998-07-21|       3-MEDIUM|Clerk#000000223|             0|ly final packages...|\n",
      "|     1276|Customer#000001276|c5UAVe71MPvmerPaf...|         16|26-809-582-2064|   -761.7|  AUTOMOBILE| the blithely reg...|        35|     1276|            O|   194641.93| 1995-10-23|4-NOT SPECIFIED|Clerk#000000259|             0|zzle. carefully e...|\n",
      "|     1153|Customer#000001153|SYG3KMj1fMh7GwvIZ...|          3|13-319-420-5160|  6244.03|   HOUSEHOLD|s. even packages ...|        36|     1153|            O|    42011.04| 1995-11-03|       1-URGENT|Clerk#000000358|             0| quick packages a...|\n",
      "|      862|Customer#000000862|zkaZ,iOp8t9MBK9T,...|          2|12-479-479-6941|  2338.92|   MACHINERY|yly regular foxes...|        37|      862|            F|   131896.49| 1992-06-03|       3-MEDIUM|Clerk#000000456|             0|kly regular pinto...|\n",
      "|     1249|Customer#000001249|x9ukZnNiUM5pBPXyE...|          7|17-866-269-1165|   448.49|    BUILDING| the ironic packa...|        38|     1249|            O|    71553.08| 1996-08-21|4-NOT SPECIFIED|Clerk#000000604|             0|haggle blithely. ...|\n",
      "|      818|Customer#000000818|CvQvKClYoh9lPjMng...|         20|30-943-141-5174|  -574.39|    BUILDING|yly. blithely fin...|        39|      818|            O|   326565.37| 1996-09-20|       3-MEDIUM|Clerk#000000659|             0|ole express, iron...|\n",
      "|      322|Customer#000000322|       bWRyCyjH5OfGX|         20|30-660-202-7517|  4489.98|   HOUSEHOLD|usual sauternes a...|        64|      322|            F|    35831.73| 1994-07-16|       3-MEDIUM|Clerk#000000661|             0|wake fluffily. so...|\n",
      "|      163|Customer#000000163|      OgrGcOnm4whd0f|         21|31-863-349-4121|  2948.61|   FURNITURE| nag furiously fu...|        65|      163|            P|    95469.44| 1995-03-18|       1-URGENT|Clerk#000000632|             0|ular requests are...|\n",
      "|     1292|Customer#000001292|QVr2XTDOMzWcLKHtN...|         21|31-966-407-1575|  5509.11|    BUILDING|haggle. special f...|        66|     1292|            F|   104190.66| 1994-01-20|          5-LOW|Clerk#000000743|             0|y pending request...|\n",
      "|      568|Customer#000000568|ZddVCnzeABTTBgV3G...|         13|23-603-795-8611|  1317.56|    BUILDING|gular decoys hagg...|        67|      568|            O|   182481.16| 1996-12-19|4-NOT SPECIFIED|Clerk#000000547|             0|symptotes haggle ...|\n",
      "|      286|Customer#000000286|    7 7uVDrpkWuozyEd|         22|32-274-308-4633|  -109.73|   HOUSEHOLD|ly special accoun...|        68|      286|            O|   301968.79| 1998-04-18|       3-MEDIUM|Clerk#000000440|             0| pinto beans slee...|\n",
      "+---------+------------------+--------------------+-----------+---------------+---------+------------+--------------------+----------+---------+-------------+------------+-----------+---------------+---------------+--------------+--------------------+\n",
      "only showing top 20 rows\n",
      "\n"
     ]
    }
   ],
   "source": [
    "customerdf.join(ordersdf,customerdf.C_CUSTKEY==ordersdf.O_CUSTKEY,'inner').show()"
   ]
  },
  {
   "cell_type": "code",
   "execution_count": 77,
   "id": "455b6da0",
   "metadata": {},
   "outputs": [
    {
     "name": "stdout",
     "output_type": "stream",
     "text": [
      "root\n",
      " |-- C_CUSTKEY: integer (nullable = true)\n",
      " |-- C_NAME: string (nullable = true)\n",
      " |-- C_ADDRESS: string (nullable = true)\n",
      " |-- C_NATIONKEY: integer (nullable = true)\n",
      " |-- C_PHONE: string (nullable = true)\n",
      " |-- C_ACCTBAL: double (nullable = true)\n",
      " |-- C_MKTSEGMENT: string (nullable = true)\n",
      " |-- C_COMMENT: string (nullable = true)\n",
      "\n"
     ]
    }
   ],
   "source": [
    "customerdf.printSchema()"
   ]
  },
  {
   "cell_type": "code",
   "execution_count": 78,
   "id": "2080c4e0",
   "metadata": {},
   "outputs": [
    {
     "name": "stdout",
     "output_type": "stream",
     "text": [
      "root\n",
      " |-- O_ORDERKEY: integer (nullable = true)\n",
      " |-- O_CUSTKEY: integer (nullable = true)\n",
      " |-- O_ORDERSTATUS: string (nullable = true)\n",
      " |-- O_TOTALPRICE: double (nullable = true)\n",
      " |-- O_ORDERDATE: date (nullable = true)\n",
      " |-- O_ORDERPRIORITY: string (nullable = true)\n",
      " |-- O_CLERK: string (nullable = true)\n",
      " |-- O_SHIPPRIORITY: integer (nullable = true)\n",
      " |-- O_COMMENT: string (nullable = true)\n",
      "\n"
     ]
    }
   ],
   "source": [
    "ordersdf.printSchema()"
   ]
  },
  {
   "cell_type": "code",
   "execution_count": 79,
   "id": "f400c1db",
   "metadata": {},
   "outputs": [
    {
     "name": "stdout",
     "output_type": "stream",
     "text": [
      "root\n",
      " |-- L_ORDERKEY: integer (nullable = true)\n",
      " |-- L_PARTKEY: integer (nullable = true)\n",
      " |-- L_SUPPKEY: integer (nullable = true)\n",
      " |-- L_LINENUMBER: integer (nullable = true)\n",
      " |-- L_QUANTITY: double (nullable = true)\n",
      " |-- L_EXTENDEDPRICE: double (nullable = true)\n",
      " |-- L_DISCOUNT: double (nullable = true)\n",
      " |-- L_TAX: double (nullable = true)\n",
      " |-- L_RETURNFLAG: string (nullable = true)\n",
      " |-- L_LINESTATUS: string (nullable = true)\n",
      " |-- L_SHIPDATE: date (nullable = true)\n",
      " |-- L_COMMITDATE: date (nullable = true)\n",
      " |-- L_RECEIPTDATE: date (nullable = true)\n",
      " |-- L_SHIPINSTRUCT: string (nullable = true)\n",
      " |-- L_SHIPMODE: string (nullable = true)\n",
      " |-- L_COMMENT: string (nullable = true)\n",
      "\n"
     ]
    }
   ],
   "source": [
    "lineitemdf.printSchema()"
   ]
  },
  {
   "cell_type": "code",
   "execution_count": 82,
   "id": "b05a5a7b",
   "metadata": {},
   "outputs": [],
   "source": [
    "cust_order_df = customerdf.join(ordersdf,customerdf.C_CUSTKEY==ordersdf.O_CUSTKEY,'inner')"
   ]
  },
  {
   "cell_type": "code",
   "execution_count": 103,
   "id": "847668fd",
   "metadata": {},
   "outputs": [],
   "source": [
    "cust_price_df = cust_order_df.groupBy(col('C_CUSTKEY')).sum('O_TOTALPRICE').withColumnRenamed('sum(O_TOTALPRICE)','Amount_spent').withColumnRenamed('C_CUSTKEY','CC')"
   ]
  },
  {
   "cell_type": "code",
   "execution_count": 140,
   "id": "856f5d4e",
   "metadata": {},
   "outputs": [],
   "source": [
    "from pyspark.sql.functions import format_number\n",
    "top_spent_customers = customerdf.join(cust_price_df,customerdf.C_CUSTKEY==cust_price_df.CC,'inner').select(col('CC'),col('C_NAME'),format_number(col('Amount_spent'),2)).orderBy(col('Amount_spent').desc()).limit(10)"
   ]
  },
  {
   "cell_type": "code",
   "execution_count": 106,
   "id": "7477fda2",
   "metadata": {},
   "outputs": [
    {
     "data": {
      "text/plain": [
       "['CC', 'Amount_spent']"
      ]
     },
     "execution_count": 106,
     "metadata": {},
     "output_type": "execute_result"
    }
   ],
   "source": [
    "cust_price_df.columns"
   ]
  },
  {
   "cell_type": "code",
   "execution_count": 114,
   "id": "28b71f71",
   "metadata": {},
   "outputs": [
    {
     "name": "stdout",
     "output_type": "stream",
     "text": [
      "root\n",
      " |-- O_ORDERKEY: integer (nullable = true)\n",
      " |-- O_CUSTKEY: integer (nullable = true)\n",
      " |-- O_ORDERSTATUS: string (nullable = true)\n",
      " |-- O_TOTALPRICE: double (nullable = true)\n",
      " |-- O_ORDERDATE: date (nullable = true)\n",
      " |-- O_ORDERPRIORITY: string (nullable = true)\n",
      " |-- O_CLERK: string (nullable = true)\n",
      " |-- O_SHIPPRIORITY: integer (nullable = true)\n",
      " |-- O_COMMENT: string (nullable = true)\n",
      "\n"
     ]
    }
   ],
   "source": [
    "ordersdf.printSchema()"
   ]
  },
  {
   "cell_type": "code",
   "execution_count": 115,
   "id": "92a6cc75",
   "metadata": {},
   "outputs": [
    {
     "name": "stdout",
     "output_type": "stream",
     "text": [
      "root\n",
      " |-- L_ORDERKEY: integer (nullable = true)\n",
      " |-- L_PARTKEY: integer (nullable = true)\n",
      " |-- L_SUPPKEY: integer (nullable = true)\n",
      " |-- L_LINENUMBER: integer (nullable = true)\n",
      " |-- L_QUANTITY: double (nullable = true)\n",
      " |-- L_EXTENDEDPRICE: double (nullable = true)\n",
      " |-- L_DISCOUNT: double (nullable = true)\n",
      " |-- L_TAX: double (nullable = true)\n",
      " |-- L_RETURNFLAG: string (nullable = true)\n",
      " |-- L_LINESTATUS: string (nullable = true)\n",
      " |-- L_SHIPDATE: date (nullable = true)\n",
      " |-- L_COMMITDATE: date (nullable = true)\n",
      " |-- L_RECEIPTDATE: date (nullable = true)\n",
      " |-- L_SHIPINSTRUCT: string (nullable = true)\n",
      " |-- L_SHIPMODE: string (nullable = true)\n",
      " |-- L_COMMENT: string (nullable = true)\n",
      "\n"
     ]
    }
   ],
   "source": [
    "lineitemdf.printSchema()"
   ]
  },
  {
   "cell_type": "code",
   "execution_count": 116,
   "id": "95e658a2",
   "metadata": {},
   "outputs": [
    {
     "name": "stdout",
     "output_type": "stream",
     "text": [
      "root\n",
      " |-- P_PARTKEY: integer (nullable = true)\n",
      " |-- P_NAME: string (nullable = true)\n",
      " |-- P_MFGR: string (nullable = true)\n",
      " |-- P_BRAND: string (nullable = true)\n",
      " |-- P_TYPE: string (nullable = true)\n",
      " |-- P_SIZE: integer (nullable = true)\n",
      " |-- P_CONTAINER: string (nullable = true)\n",
      " |-- P_RETAILPRICE: double (nullable = true)\n",
      " |-- P_COMMENT: string (nullable = true)\n",
      "\n"
     ]
    }
   ],
   "source": [
    "partdf.printSchema()"
   ]
  },
  {
   "cell_type": "code",
   "execution_count": 139,
   "id": "8e776d3b",
   "metadata": {},
   "outputs": [],
   "source": [
    "high_sale_product = lineitemdf.join(partdf,lineitemdf.L_PARTKEY==partdf.P_PARTKEY,'inner').select(col('L_PARTKEY'),col('P_NAME')).groupBy(col('P_NAME')).count().orderBy(col('count').desc()).limit(10)"
   ]
  },
  {
   "cell_type": "code",
   "execution_count": 138,
   "id": "2e813e51",
   "metadata": {},
   "outputs": [],
   "source": [
    "low_sale_products = lineitemdf.join(partdf,lineitemdf.L_PARTKEY==partdf.P_PARTKEY,'inner').select(col('L_PARTKEY'),col('P_NAME')).groupBy(col('P_NAME')).count().orderBy(col('count')).limit(10)"
   ]
  },
  {
   "cell_type": "code",
   "execution_count": 126,
   "id": "613f0b7e",
   "metadata": {},
   "outputs": [
    {
     "name": "stdout",
     "output_type": "stream",
     "text": [
      "root\n",
      " |-- C_CUSTKEY: integer (nullable = true)\n",
      " |-- C_NAME: string (nullable = true)\n",
      " |-- C_ADDRESS: string (nullable = true)\n",
      " |-- C_NATIONKEY: integer (nullable = true)\n",
      " |-- C_PHONE: string (nullable = true)\n",
      " |-- C_ACCTBAL: double (nullable = true)\n",
      " |-- C_MKTSEGMENT: string (nullable = true)\n",
      " |-- C_COMMENT: string (nullable = true)\n",
      " |-- O_ORDERKEY: integer (nullable = true)\n",
      " |-- O_CUSTKEY: integer (nullable = true)\n",
      " |-- O_ORDERSTATUS: string (nullable = true)\n",
      " |-- O_TOTALPRICE: double (nullable = true)\n",
      " |-- O_ORDERDATE: date (nullable = true)\n",
      " |-- O_ORDERPRIORITY: string (nullable = true)\n",
      " |-- O_CLERK: string (nullable = true)\n",
      " |-- O_SHIPPRIORITY: integer (nullable = true)\n",
      " |-- O_COMMENT: string (nullable = true)\n",
      "\n"
     ]
    }
   ],
   "source": [
    "cust_order_df.printSchema()"
   ]
  },
  {
   "cell_type": "code",
   "execution_count": 137,
   "id": "6dc8d184",
   "metadata": {},
   "outputs": [],
   "source": [
    "low_sale_country = cust_order_df.join(nationdf,cust_order_df.C_NATIONKEY==nationdf.N_NATIONKEY,'inner').groupBy('N_NAME').sum('O_TOTALPRICE').orderBy(col('sum(O_TOTALPRICE)')).limit(10)"
   ]
  },
  {
   "cell_type": "code",
   "execution_count": 127,
   "id": "79bcae48",
   "metadata": {},
   "outputs": [
    {
     "name": "stdout",
     "output_type": "stream",
     "text": [
      "root\n",
      " |-- N_NATIONKEY: integer (nullable = true)\n",
      " |-- N_NAME: string (nullable = true)\n",
      " |-- N_REGIONKEY: integer (nullable = true)\n",
      " |-- N_COMMENT: string (nullable = true)\n",
      "\n"
     ]
    }
   ],
   "source": [
    "nationdf.printSchema()"
   ]
  },
  {
   "cell_type": "code",
   "execution_count": 131,
   "id": "11ce9fe6",
   "metadata": {},
   "outputs": [
    {
     "name": "stdout",
     "output_type": "stream",
     "text": [
      "+------------+\n",
      "|O_TOTALPRICE|\n",
      "+------------+\n",
      "|   466001.28|\n",
      "|   439687.23|\n",
      "|   431771.98|\n",
      "|   430619.75|\n",
      "|   422359.65|\n",
      "|   411255.46|\n",
      "|   409770.83|\n",
      "|   408345.74|\n",
      "|   406938.36|\n",
      "|   405742.27|\n",
      "|   405401.76|\n",
      "|    405235.9|\n",
      "|   403464.01|\n",
      "|   402930.49|\n",
      "|   401055.62|\n",
      "|   400191.77|\n",
      "|    397797.8|\n",
      "|   397549.76|\n",
      "|   396261.24|\n",
      "|   395495.85|\n",
      "|   395039.05|\n",
      "|   393923.76|\n",
      "|   392614.07|\n",
      "|    392172.9|\n",
      "|   386714.93|\n",
      "|   386334.55|\n",
      "|   384265.43|\n",
      "|   382233.07|\n",
      "|   381793.12|\n",
      "|   381170.13|\n",
      "|   379837.62|\n",
      "|   379689.83|\n",
      "|   378166.33|\n",
      "|   377636.63|\n",
      "|   376904.18|\n",
      "|   376309.96|\n",
      "|    373674.8|\n",
      "|    372954.4|\n",
      "|   372934.56|\n",
      "|   372916.06|\n",
      "|   372488.09|\n",
      "|   371804.24|\n",
      "|   371624.55|\n",
      "|   370957.42|\n",
      "|   370518.49|\n",
      "|   369844.66|\n",
      "|   369804.91|\n",
      "|   369658.21|\n",
      "|    368982.6|\n",
      "|   368220.47|\n",
      "|   367176.04|\n",
      "|   366949.49|\n",
      "|   366916.27|\n",
      "|   366528.14|\n",
      "|   366479.63|\n",
      "|   366277.63|\n",
      "|   365518.53|\n",
      "|   364437.75|\n",
      "|   362967.77|\n",
      "|   362398.22|\n",
      "|   362242.86|\n",
      "|   362237.85|\n",
      "|   362117.55|\n",
      "|   362024.17|\n",
      "|   361167.24|\n",
      "|   360459.63|\n",
      "|   360144.81|\n",
      "|   360022.89|\n",
      "|    359769.9|\n",
      "|   359455.08|\n",
      "|   359414.77|\n",
      "|   359406.02|\n",
      "|   359373.75|\n",
      "|   359364.87|\n",
      "|   358882.09|\n",
      "|    358646.8|\n",
      "|   358340.33|\n",
      "|    358175.6|\n",
      "|   358058.27|\n",
      "|   357345.46|\n",
      "|   356912.77|\n",
      "|    356824.5|\n",
      "|   356711.63|\n",
      "|   355597.02|\n",
      "|    355352.9|\n",
      "|    354924.9|\n",
      "|   354885.81|\n",
      "|   354579.92|\n",
      "|   354366.71|\n",
      "|   354036.76|\n",
      "|   353894.29|\n",
      "|   353791.62|\n",
      "|   353727.96|\n",
      "|   353334.19|\n",
      "|   353202.95|\n",
      "|   353083.24|\n",
      "|   352720.59|\n",
      "|    351797.6|\n",
      "|   351587.09|\n",
      "|   351345.57|\n",
      "+------------+\n",
      "only showing top 100 rows\n",
      "\n"
     ]
    }
   ],
   "source": [
    "cust_order_df.select(col('O_TOTALPRICE')).distinct().orderBy(col('O_TOTALPRICE').desc()).show(100)"
   ]
  },
  {
   "cell_type": "code",
   "execution_count": 141,
   "id": "53355dc8",
   "metadata": {
    "scrolled": true
   },
   "outputs": [
    {
     "name": "stdout",
     "output_type": "stream",
     "text": [
      "+----+------------------+------------------------------+\n",
      "|  CC|            C_NAME|format_number(Amount_spent, 2)|\n",
      "+----+------------------+------------------------------+\n",
      "|1489|Customer#000001489|                  5,408,941.28|\n",
      "| 214|Customer#000000214|                  4,674,894.73|\n",
      "|1396|Customer#000001396|                  4,644,936.89|\n",
      "|1246|Customer#000001246|                  4,642,942.33|\n",
      "|  73|Customer#000000073|                  4,638,819.21|\n",
      "| 643|Customer#000000643|                  4,555,789.04|\n",
      "|1318|Customer#000001318|                  4,520,525.11|\n",
      "|1150|Customer#000001150|                  4,516,089.38|\n",
      "| 898|Customer#000000898|                  4,460,059.60|\n",
      "| 943|Customer#000000943|                  4,432,159.86|\n",
      "+----+------------------+------------------------------+\n",
      "\n"
     ]
    }
   ],
   "source": [
    "top_spent_customers.show()"
   ]
  },
  {
   "cell_type": "code",
   "execution_count": 142,
   "id": "a2d8f424",
   "metadata": {},
   "outputs": [
    {
     "name": "stdout",
     "output_type": "stream",
     "text": [
      "+-------------+-------------------+\n",
      "|       N_NAME|  sum(O_TOTALPRICE)|\n",
      "+-------------+-------------------+\n",
      "|       FRANCE|5.368894176000002E7|\n",
      "|UNITED STATES|6.514880856000007E7|\n",
      "|        CHINA|6.516384588999996E7|\n",
      "|         PERU|6.594954112999999E7|\n",
      "|       RUSSIA|7.132220541999997E7|\n",
      "|    ARGENTINA|7.481880294000004E7|\n",
      "|        INDIA|      7.543803921E7|\n",
      "|      GERMANY|7.762028428000006E7|\n",
      "|         IRAQ|8.139912672999999E7|\n",
      "|       JORDAN|8.285502058000003E7|\n",
      "+-------------+-------------------+\n",
      "\n"
     ]
    }
   ],
   "source": [
    "low_sale_country.show()"
   ]
  },
  {
   "cell_type": "code",
   "execution_count": 143,
   "id": "3e9332a2",
   "metadata": {},
   "outputs": [
    {
     "name": "stdout",
     "output_type": "stream",
     "text": [
      "+--------------------+-----+\n",
      "|              P_NAME|count|\n",
      "+--------------------+-----+\n",
      "|chocolate cornsil...|   51|\n",
      "|pale rose navajo ...|   50|\n",
      "|floral aquamarine...|   49|\n",
      "|orchid indian pin...|   49|\n",
      "|magenta sandy tur...|   48|\n",
      "|dark indian snow ...|   48|\n",
      "|dim cyan bisque b...|   47|\n",
      "|firebrick metalli...|   47|\n",
      "|dodger antique ta...|   46|\n",
      "|olive lawn coral ...|   46|\n",
      "+--------------------+-----+\n",
      "\n"
     ]
    }
   ],
   "source": [
    "high_sale_product.show()"
   ]
  },
  {
   "cell_type": "code",
   "execution_count": 144,
   "id": "3bad4479",
   "metadata": {},
   "outputs": [
    {
     "name": "stdout",
     "output_type": "stream",
     "text": [
      "+----+------------------+------------------------------+\n",
      "|  CC|            C_NAME|format_number(Amount_spent, 2)|\n",
      "+----+------------------+------------------------------+\n",
      "|1489|Customer#000001489|                  5,408,941.28|\n",
      "| 214|Customer#000000214|                  4,674,894.73|\n",
      "|1396|Customer#000001396|                  4,644,936.89|\n",
      "|1246|Customer#000001246|                  4,642,942.33|\n",
      "|  73|Customer#000000073|                  4,638,819.21|\n",
      "| 643|Customer#000000643|                  4,555,789.04|\n",
      "|1318|Customer#000001318|                  4,520,525.11|\n",
      "|1150|Customer#000001150|                  4,516,089.38|\n",
      "| 898|Customer#000000898|                  4,460,059.60|\n",
      "| 943|Customer#000000943|                  4,432,159.86|\n",
      "+----+------------------+------------------------------+\n",
      "\n"
     ]
    }
   ],
   "source": [
    "top_spent_customers.show()"
   ]
  },
  {
   "cell_type": "code",
   "execution_count": 145,
   "id": "de7505f6",
   "metadata": {},
   "outputs": [
    {
     "name": "stdout",
     "output_type": "stream",
     "text": [
      "+--------------------+-----+\n",
      "|              P_NAME|count|\n",
      "+--------------------+-----+\n",
      "|ghost rosy beige ...|   11|\n",
      "|yellow powder nav...|   14|\n",
      "|dodger navajo nav...|   15|\n",
      "|green pink froste...|   15|\n",
      "|seashell navy kha...|   16|\n",
      "|almond rosy green...|   16|\n",
      "|sienna pale royal...|   16|\n",
      "|almond steel maro...|   16|\n",
      "|olive tomato tan ...|   17|\n",
      "|drab lavender law...|   17|\n",
      "+--------------------+-----+\n",
      "\n"
     ]
    }
   ],
   "source": [
    "low_sale_products.show()"
   ]
  },
  {
   "cell_type": "code",
   "execution_count": 146,
   "id": "7e6acd1d",
   "metadata": {},
   "outputs": [],
   "source": [
    "low_sale_products.write.csv('/home/labuser/Documents/result/low_sales_product/')\n",
    "top_spent_customers.write.csv('/home/labuser/Documents/result/top_spent_customers/')\n",
    "low_sale_country.write.csv('/home/labuser/Documents/result/low_sale_country/')\n",
    "high_sale_product.write.csv('/home/labuser/Documents/result/high_sale_product/')\n"
   ]
  },
  {
   "cell_type": "code",
   "execution_count": null,
   "id": "96cf4d7b",
   "metadata": {},
   "outputs": [],
   "source": []
  }
 ],
 "metadata": {
  "kernelspec": {
   "display_name": "Python 3 (ipykernel)",
   "language": "python",
   "name": "python3"
  },
  "language_info": {
   "codemirror_mode": {
    "name": "ipython",
    "version": 3
   },
   "file_extension": ".py",
   "mimetype": "text/x-python",
   "name": "python",
   "nbconvert_exporter": "python",
   "pygments_lexer": "ipython3",
   "version": "3.11.4"
  }
 },
 "nbformat": 4,
 "nbformat_minor": 5
}
