{
 "cells": [
  {
   "cell_type": "code",
   "execution_count": 13,
   "id": "ef2a1f33",
   "metadata": {},
   "outputs": [
    {
     "name": "stdout",
     "output_type": "stream",
     "text": [
      "0.021533161068044787\n"
     ]
    }
   ],
   "source": [
    "#volume of the gas\n",
    "#it takes 3 parameters\n",
    "\n",
    "def volume(pressure,gas_const,temp):\n",
    "    \"\"\"\n",
    "    This function calculates volume of gas\n",
    "    Args:\n",
    "    Pressure (float): pressure in pascal\n",
    "    gas_const (float): gas constant for specific gas\n",
    "    Temparature (float): temparature in kelvin\n",
    "    returns:\n",
    "    float : volume in cubic meter\n",
    "    \"\"\"\n",
    "    v=(pressure * 1.0)/(gas_const*temp)\n",
    "    return v\n",
    "\n",
    "print(volume(1,1.08,43))"
   ]
  },
  {
   "cell_type": "code",
   "execution_count": 14,
   "id": "78519b5d",
   "metadata": {},
   "outputs": [
    {
     "name": "stdout",
     "output_type": "stream",
     "text": [
      "Help on function volume in module __main__:\n",
      "\n",
      "volume(pressure, gas_const, temp)\n",
      "    This function calculates volume of gas\n",
      "    Args:\n",
      "    Pressure (float): pressure in pascal\n",
      "    gas_const (float): gas constant for specific gas\n",
      "    Temparature (float): temparature in kelvin\n",
      "    returns:\n",
      "    float : volume in cubic meter\n",
      "\n"
     ]
    }
   ],
   "source": [
    "help(volume)"
   ]
  },
  {
   "cell_type": "code",
   "execution_count": 15,
   "id": "9f148b50",
   "metadata": {},
   "outputs": [],
   "source": [
    "def massofgas(pressure,gas_const,temp,molar_mass):\n",
    "    \"\"\"\n",
    "    This function calculates mass of gas\n",
    "    Args:\n",
    "    Pressure (float): pressure in pascal\n",
    "    gas_const (float): gas constant for specific gas\n",
    "    Temparature (float): temparature in kelvin\n",
    "    molar_mass (float): molar mass of specific gas\n",
    "    returns:\n",
    "    float : returns mass in kgs\n",
    "    \"\"\"\n",
    "    m=(volume(pressure,gas_const,temp))*molar_mass\n",
    "    return f\"{m} kg\""
   ]
  },
  {
   "cell_type": "code",
   "execution_count": 16,
   "id": "d5569132",
   "metadata": {},
   "outputs": [
    {
     "data": {
      "text/plain": [
       "'0.47732696897374705 kg'"
      ]
     },
     "execution_count": 16,
     "metadata": {},
     "output_type": "execute_result"
    }
   ],
   "source": [
    "massofgas(2,2.3,41.9,23.0)"
   ]
  },
  {
   "cell_type": "code",
   "execution_count": 17,
   "id": "13a0a6c3",
   "metadata": {},
   "outputs": [],
   "source": [
    "#recursive function\n",
    "def factorial(n):\n",
    "    if n==0:\n",
    "        return 1\n",
    "    return n*factorial(n-1)"
   ]
  },
  {
   "cell_type": "code",
   "execution_count": 18,
   "id": "107814c1",
   "metadata": {},
   "outputs": [
    {
     "data": {
      "text/plain": [
       "1"
      ]
     },
     "execution_count": 18,
     "metadata": {},
     "output_type": "execute_result"
    }
   ],
   "source": [
    "factorial(0)"
   ]
  },
  {
   "cell_type": "code",
   "execution_count": 19,
   "id": "15558d65",
   "metadata": {},
   "outputs": [
    {
     "data": {
      "text/plain": [
       "120"
      ]
     },
     "execution_count": 19,
     "metadata": {},
     "output_type": "execute_result"
    }
   ],
   "source": [
    "factorial(5)"
   ]
  },
  {
   "cell_type": "code",
   "execution_count": 20,
   "id": "4f356838",
   "metadata": {},
   "outputs": [],
   "source": [
    "def calculate_total_depth(segments):\n",
    "    if not segments:\n",
    "        return 0\n",
    "    else:\n",
    "        cu = segments[0]\n",
    "        re = segments[1:]\n",
    "        return cu+calculate_total_depth(re)"
   ]
  },
  {
   "cell_type": "code",
   "execution_count": 21,
   "id": "3dd6bc4b",
   "metadata": {},
   "outputs": [
    {
     "data": {
      "text/plain": [
       "10"
      ]
     },
     "execution_count": 21,
     "metadata": {},
     "output_type": "execute_result"
    }
   ],
   "source": [
    "calculate_total_depth([1,2,3,4])"
   ]
  },
  {
   "cell_type": "code",
   "execution_count": 22,
   "id": "7313f256",
   "metadata": {},
   "outputs": [
    {
     "data": {
      "text/plain": [
       "0"
      ]
     },
     "execution_count": 22,
     "metadata": {},
     "output_type": "execute_result"
    }
   ],
   "source": [
    "calculate_total_depth([])"
   ]
  },
  {
   "cell_type": "code",
   "execution_count": 23,
   "id": "142c442e",
   "metadata": {},
   "outputs": [],
   "source": [
    "#generator functions\n",
    "def f(n):\n",
    "    for i in range(1,n+1):\n",
    "        yield i ** 2"
   ]
  },
  {
   "cell_type": "code",
   "execution_count": 33,
   "id": "ed06417d",
   "metadata": {},
   "outputs": [
    {
     "name": "stdout",
     "output_type": "stream",
     "text": [
      "1\n",
      "4\n",
      "9\n",
      "16\n",
      "25\n"
     ]
    }
   ],
   "source": [
    "for i in f(5):\n",
    "    \n",
    "    print(i)"
   ]
  },
  {
   "cell_type": "code",
   "execution_count": 48,
   "id": "3d90c7f5",
   "metadata": {},
   "outputs": [],
   "source": [
    "@dec\n",
    "def oil(l):\n",
    "    for i,j in l:\n",
    "        yield (i,j)"
   ]
  },
  {
   "cell_type": "code",
   "execution_count": 57,
   "id": "ba3e2010",
   "metadata": {},
   "outputs": [
    {
     "ename": "TypeError",
     "evalue": "oil() missing 1 required positional argument: 'l'",
     "output_type": "error",
     "traceback": [
      "\u001b[0;31m---------------------------------------------------------------------------\u001b[0m",
      "\u001b[0;31mTypeError\u001b[0m                                 Traceback (most recent call last)",
      "Cell \u001b[0;32mIn[57], line 1\u001b[0m\n\u001b[0;32m----> 1\u001b[0m oil([(\u001b[38;5;124m'\u001b[39m\u001b[38;5;124mjan\u001b[39m\u001b[38;5;124m'\u001b[39m,\u001b[38;5;241m11\u001b[39m),(\u001b[38;5;124m'\u001b[39m\u001b[38;5;124mfeb\u001b[39m\u001b[38;5;124m'\u001b[39m,\u001b[38;5;241m12\u001b[39m),(\u001b[38;5;124m'\u001b[39m\u001b[38;5;124mmarch\u001b[39m\u001b[38;5;124m'\u001b[39m,\u001b[38;5;241m13\u001b[39m),(\u001b[38;5;124m'\u001b[39m\u001b[38;5;124mapril\u001b[39m\u001b[38;5;124m'\u001b[39m,\u001b[38;5;241m15\u001b[39m),(\u001b[38;5;124m'\u001b[39m\u001b[38;5;124mmay\u001b[39m\u001b[38;5;124m'\u001b[39m,\u001b[38;5;241m17\u001b[39m),(\u001b[38;5;124m'\u001b[39m\u001b[38;5;124mjune\u001b[39m\u001b[38;5;124m'\u001b[39m,\u001b[38;5;241m21\u001b[39m),(\u001b[38;5;124m'\u001b[39m\u001b[38;5;124mjuly\u001b[39m\u001b[38;5;124m'\u001b[39m,\u001b[38;5;241m24\u001b[39m)])\n",
      "Cell \u001b[0;32mIn[52], line 4\u001b[0m, in \u001b[0;36mdec.<locals>.inn\u001b[0;34m(name)\u001b[0m\n\u001b[1;32m      2\u001b[0m \u001b[38;5;28;01mdef\u001b[39;00m \u001b[38;5;21minn\u001b[39m(name):\n\u001b[1;32m      3\u001b[0m     logging\u001b[38;5;241m.\u001b[39minfo(\u001b[38;5;124m\"\u001b[39m\u001b[38;5;124mfunction start\u001b[39m\u001b[38;5;124m\"\u001b[39m)\n\u001b[0;32m----> 4\u001b[0m     f()\n\u001b[1;32m      5\u001b[0m     logging\u001b[38;5;241m.\u001b[39minfo(\u001b[38;5;124m'\u001b[39m\u001b[38;5;124mfunction end\u001b[39m\u001b[38;5;124m'\u001b[39m)\n",
      "\u001b[0;31mTypeError\u001b[0m: oil() missing 1 required positional argument: 'l'"
     ]
    }
   ],
   "source": [
    "oil([('jan',11),('feb',12),('march',13),('april',15),('may',17),('june',21),('july',24)])"
   ]
  },
  {
   "cell_type": "code",
   "execution_count": 45,
   "id": "00c62a5d",
   "metadata": {},
   "outputs": [
    {
     "name": "stdout",
     "output_type": "stream",
     "text": [
      "('jan', 11)\n",
      "('feb', 12)\n",
      "('march', 13)\n",
      "('april', 15)\n",
      "('may', 17)\n",
      "('june', 21)\n",
      "('july', 24)\n"
     ]
    }
   ],
   "source": [
    "for i in oil(p):\n",
    "    print(i)"
   ]
  },
  {
   "cell_type": "code",
   "execution_count": 50,
   "id": "088b9c79",
   "metadata": {},
   "outputs": [],
   "source": [
    "import logging"
   ]
  },
  {
   "cell_type": "code",
   "execution_count": 55,
   "id": "58f1dcb8",
   "metadata": {},
   "outputs": [],
   "source": [
    "p = [('jan',11),('feb',12),('march',13),('april',15),('may',17),('june',21),('july',24)]"
   ]
  },
  {
   "cell_type": "code",
   "execution_count": 86,
   "id": "e94ac9af",
   "metadata": {},
   "outputs": [],
   "source": [
    "\n",
    "def dec(f):\n",
    "    def inn(*name):\n",
    "        logging.warning(\"function start\")\n",
    "        print(f(name))\n",
    "        logging.warning('function end')\n",
    "        yield name[1]\n",
    "    return inn\n",
    "        "
   ]
  },
  {
   "cell_type": "code",
   "execution_count": 87,
   "id": "ce681c40",
   "metadata": {},
   "outputs": [],
   "source": [
    "@dec\n",
    "def sushant(name):\n",
    "    \n",
    "    return name[0]\n"
   ]
  },
  {
   "cell_type": "code",
   "execution_count": 88,
   "id": "31427e33",
   "metadata": {},
   "outputs": [
    {
     "data": {
      "text/plain": [
       "<generator object dec.<locals>.inn at 0x7efbde2f4c80>"
      ]
     },
     "execution_count": 88,
     "metadata": {},
     "output_type": "execute_result"
    }
   ],
   "source": [
    "sushant('s','a')"
   ]
  },
  {
   "cell_type": "code",
   "execution_count": 90,
   "id": "d290023d",
   "metadata": {},
   "outputs": [
    {
     "name": "stdout",
     "output_type": "stream",
     "text": [
      "name\n",
      "age\n"
     ]
    }
   ],
   "source": [
    "for i in {'name':\"sushant\",\"age\":20}:\n",
    "    print(i)"
   ]
  },
  {
   "cell_type": "code",
   "execution_count": 1,
   "id": "a59bab86",
   "metadata": {},
   "outputs": [],
   "source": [
    "#class "
   ]
  },
  {
   "cell_type": "code",
   "execution_count": 2,
   "id": "805b06f5",
   "metadata": {},
   "outputs": [],
   "source": [
    "class person:\n",
    "    def __init__(self,name,age):\n",
    "        self.name=name\n",
    "        self.age=age\n",
    "    def greet(self):\n",
    "        return f\"Name: {self.name} Age: {self.age}\"\n",
    "    \n",
    "    "
   ]
  },
  {
   "cell_type": "code",
   "execution_count": 3,
   "id": "bcae9254",
   "metadata": {},
   "outputs": [],
   "source": [
    "abc = person(\"sushant\",23)"
   ]
  },
  {
   "cell_type": "code",
   "execution_count": 4,
   "id": "7fdce2d0",
   "metadata": {},
   "outputs": [
    {
     "data": {
      "text/plain": [
       "'Name: sushant Age: 23'"
      ]
     },
     "execution_count": 4,
     "metadata": {},
     "output_type": "execute_result"
    }
   ],
   "source": [
    "abc.greet()"
   ]
  },
  {
   "cell_type": "code",
   "execution_count": 5,
   "id": "d4cffa65",
   "metadata": {},
   "outputs": [
    {
     "data": {
      "text/plain": [
       "'sushant'"
      ]
     },
     "execution_count": 5,
     "metadata": {},
     "output_type": "execute_result"
    }
   ],
   "source": [
    "abc.name"
   ]
  },
  {
   "cell_type": "code",
   "execution_count": 6,
   "id": "2e9ce4bc",
   "metadata": {},
   "outputs": [
    {
     "data": {
      "text/plain": [
       "23"
      ]
     },
     "execution_count": 6,
     "metadata": {},
     "output_type": "execute_result"
    }
   ],
   "source": [
    "abc.age"
   ]
  },
  {
   "cell_type": "code",
   "execution_count": 26,
   "id": "9e4438cf",
   "metadata": {},
   "outputs": [],
   "source": [
    "class Gas:\n",
    "    def __init__(self,pressure,gas_const,temp,molar_mass):\n",
    "        self.pressure=pressure\n",
    "        self.gas_const=gas_const\n",
    "        self.temp=temp\n",
    "        self.molar_mass=molar_mass\n",
    "        \n",
    "    def volume(self):\n",
    "        \"\"\"\n",
    "        This function calculates volume of gas\n",
    "        Args:\n",
    "        Pressure (float): pressure in pascal\n",
    "        gas_const (float): gas constant for specific gas\n",
    "        Temparature (float): temparature in kelvin\n",
    "        returns:\n",
    "        float : volume in cubic meter\n",
    "        \"\"\"\n",
    "        v=(self.pressure * 1.0)/(self.gas_const*self.temp)\n",
    "        return v\n",
    "\n",
    "        \n",
    "    def massofgas(self):\n",
    "        \"\"\"\n",
    "        This function calculates mass of gas\n",
    "        Args:\n",
    "        Pressure (float): pressure in pascal\n",
    "        gas_const (float): gas constant for specific gas\n",
    "        Temparature (float): temparature in kelvin\n",
    "        molar_mass (float): molar mass of specific gas\n",
    "        returns:\n",
    "        float : returns mass in kgs\n",
    "        \"\"\"\n",
    "        m=(self.volume())*self.molar_mass\n",
    "        return m\n",
    "    def calculate_total_depth(self,segments):\n",
    "        if not segments:\n",
    "            return 0\n",
    "        else:\n",
    "            cu = segments[0]\n",
    "            re = segments[1:]\n",
    "            return cu+self.calculate_total_depth(re)\n",
    "\n",
    "\n"
   ]
  },
  {
   "cell_type": "code",
   "execution_count": 27,
   "id": "d4131050",
   "metadata": {},
   "outputs": [],
   "source": [
    "nitrogen = Gas(2,2.3,41.9,23.0)"
   ]
  },
  {
   "cell_type": "code",
   "execution_count": 28,
   "id": "d759659d",
   "metadata": {},
   "outputs": [
    {
     "data": {
      "text/plain": [
       "0.020753346477119437"
      ]
     },
     "execution_count": 28,
     "metadata": {},
     "output_type": "execute_result"
    }
   ],
   "source": [
    "nitrogen.volume()"
   ]
  },
  {
   "cell_type": "code",
   "execution_count": 29,
   "id": "b26d48c2",
   "metadata": {},
   "outputs": [
    {
     "data": {
      "text/plain": [
       "0.47732696897374705"
      ]
     },
     "execution_count": 29,
     "metadata": {},
     "output_type": "execute_result"
    }
   ],
   "source": [
    "nitrogen.massofgas()"
   ]
  },
  {
   "cell_type": "code",
   "execution_count": 30,
   "id": "80dfa4f0",
   "metadata": {},
   "outputs": [
    {
     "data": {
      "text/plain": [
       "15"
      ]
     },
     "execution_count": 30,
     "metadata": {},
     "output_type": "execute_result"
    }
   ],
   "source": [
    "nitrogen.calculate_total_depth([1,2,3,4,5])"
   ]
  },
  {
   "cell_type": "code",
   "execution_count": 31,
   "id": "fb630c15",
   "metadata": {},
   "outputs": [
    {
     "name": "stdout",
     "output_type": "stream",
     "text": [
      "1695113234.3994918\n"
     ]
    }
   ],
   "source": [
    "import time\n",
    "print(time.time())"
   ]
  },
  {
   "cell_type": "code",
   "execution_count": 32,
   "id": "09ec198f",
   "metadata": {},
   "outputs": [
    {
     "name": "stdout",
     "output_type": "stream",
     "text": [
      "2023-09-19 08:47:42.931349\n"
     ]
    }
   ],
   "source": [
    "from datetime import datetime\n",
    "print(datetime.now())"
   ]
  },
  {
   "cell_type": "code",
   "execution_count": 48,
   "id": "486ae22a",
   "metadata": {},
   "outputs": [
    {
     "name": "stdout",
     "output_type": "stream",
     "text": [
      "19-09-2023  08:55:41\n"
     ]
    }
   ],
   "source": [
    "curr = datetime.fromtimestamp(time.time()).strftime('%d-%m-%Y  %H:%M:%S')\n",
    "print(curr)"
   ]
  },
  {
   "cell_type": "code",
   "execution_count": 58,
   "id": "6b479784",
   "metadata": {},
   "outputs": [
    {
     "name": "stdout",
     "output_type": "stream",
     "text": [
      "08-57-59 Sep\n"
     ]
    }
   ],
   "source": [
    "from datetime import datetime\n",
    "curr = datetime.now().strftime('%H-%M-%S %h')\n",
    "print(curr)"
   ]
  },
  {
   "cell_type": "code",
   "execution_count": 60,
   "id": "58380686",
   "metadata": {},
   "outputs": [
    {
     "name": "stdout",
     "output_type": "stream",
     "text": [
      "09\n"
     ]
    }
   ],
   "source": [
    "currtime = datetime.fromtimestamp(time.time()).strftime('%H')\n",
    "print(currtime)"
   ]
  },
  {
   "cell_type": "code",
   "execution_count": 72,
   "id": "12557ff1",
   "metadata": {},
   "outputs": [
    {
     "name": "stdout",
     "output_type": "stream",
     "text": [
      "Exception\n"
     ]
    }
   ],
   "source": [
    "a=100\n",
    "b=0\n",
    "try:\n",
    "    c=a/b\n",
    "    print(c)\n",
    "except Exception :\n",
    "    print(Exception.__name__)"
   ]
  },
  {
   "cell_type": "code",
   "execution_count": 75,
   "id": "5c8831f7",
   "metadata": {},
   "outputs": [],
   "source": [
    "i = 7"
   ]
  },
  {
   "cell_type": "code",
   "execution_count": 77,
   "id": "08123dbe",
   "metadata": {},
   "outputs": [
    {
     "name": "stdout",
     "output_type": "stream",
     "text": [
      "intnnn\n"
     ]
    }
   ],
   "source": [
    "if (i.__class__.__name__)=='int':\n",
    "    print(\"intnnn\")"
   ]
  },
  {
   "cell_type": "code",
   "execution_count": null,
   "id": "78912b25",
   "metadata": {},
   "outputs": [],
   "source": [
    "# try:\n",
    "#     pass\n",
    "# except:\n",
    "#     pass\n",
    "# else:\n",
    "#     pass\n",
    "# finally:\n",
    "#     pass"
   ]
  },
  {
   "cell_type": "code",
   "execution_count": 82,
   "id": "a8e83402",
   "metadata": {},
   "outputs": [],
   "source": [
    "l = [i*3 for i in range(10) if i%2==0]"
   ]
  },
  {
   "cell_type": "code",
   "execution_count": 83,
   "id": "ab9cba56",
   "metadata": {},
   "outputs": [
    {
     "name": "stdout",
     "output_type": "stream",
     "text": [
      "[0, 6, 12, 18, 24]\n"
     ]
    }
   ],
   "source": [
    "print(l)"
   ]
  },
  {
   "cell_type": "code",
   "execution_count": 86,
   "id": "3aa9cd40",
   "metadata": {},
   "outputs": [],
   "source": [
    "l = [i if i%2==0 else 10 for i in range(6)]"
   ]
  },
  {
   "cell_type": "code",
   "execution_count": 87,
   "id": "4a304900",
   "metadata": {},
   "outputs": [
    {
     "name": "stdout",
     "output_type": "stream",
     "text": [
      "[0, 10, 2, 10, 4, 10]\n"
     ]
    }
   ],
   "source": [
    "print(l)"
   ]
  },
  {
   "cell_type": "code",
   "execution_count": 88,
   "id": "e22a0ca3",
   "metadata": {},
   "outputs": [],
   "source": [
    "add = lambda x,y : x+y"
   ]
  },
  {
   "cell_type": "code",
   "execution_count": 89,
   "id": "5b1971ca",
   "metadata": {},
   "outputs": [
    {
     "data": {
      "text/plain": [
       "50"
      ]
     },
     "execution_count": 89,
     "metadata": {},
     "output_type": "execute_result"
    }
   ],
   "source": [
    "add(20,30)"
   ]
  },
  {
   "cell_type": "code",
   "execution_count": null,
   "id": "b4c19f29",
   "metadata": {},
   "outputs": [],
   "source": []
  }
 ],
 "metadata": {
  "kernelspec": {
   "display_name": "Python 3 (ipykernel)",
   "language": "python",
   "name": "python3"
  },
  "language_info": {
   "codemirror_mode": {
    "name": "ipython",
    "version": 3
   },
   "file_extension": ".py",
   "mimetype": "text/x-python",
   "name": "python",
   "nbconvert_exporter": "python",
   "pygments_lexer": "ipython3",
   "version": "3.11.4"
  }
 },
 "nbformat": 4,
 "nbformat_minor": 5
}
